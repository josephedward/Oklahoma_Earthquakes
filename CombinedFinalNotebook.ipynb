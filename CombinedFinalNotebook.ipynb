{
 "cells": [
  {
   "cell_type": "markdown",
   "metadata": {},
   "source": [
    "## Major Questions:\n",
    "\n",
    "### - Do frequency of earthquakes increase with proximity to injection wells?\n",
    "### - Can the data be used as a general predictor of proximity or timing of future earthquakes?\n",
    "\n",
    "### Sub-Bullets\n",
    "\n",
    "#### - Create a map of earthquakes and well locations\n",
    "#### - Plot number of wells drilled over time compared to the number of earthquakes over time (in years)\n",
    "#### - Do the average daily PSI rates have more earthquakes around them?\n",
    "#### - Do the total BBLs injected have more earthquakes around them?"
   ]
  },
  {
   "cell_type": "code",
   "execution_count": 1,
   "metadata": {},
   "outputs": [],
   "source": [
    "#import dependencies\n",
    "import matplotlib.pyplot as plt\n",
    "import pandas as pd\n",
    "import numpy as np\n",
    "from scipy.stats import linregress\n",
    "import gmaps\n",
    "import gmaps.datasets\n",
    "#import geopandas as gpd\n",
    "\n",
    "# Import API Key\n",
    "from api_key import g_key\n",
    "\n",
    "#get csvs\n",
    "ok_wells = 'resources/InjectionWells.csv'\n",
    "ok_quakes = 'resources/okQuakes.csv'\n",
    "\n",
    "#turn csvs into DFs\n",
    "ok_wells_df = pd.read_csv(ok_wells)\n",
    "ok_quakes_df = pd.read_csv(ok_quakes)\n"
   ]
  },
  {
   "cell_type": "markdown",
   "metadata": {},
   "source": [
    "## EXPLORE DATAFRAMES"
   ]
  },
  {
   "cell_type": "code",
   "execution_count": 2,
   "metadata": {},
   "outputs": [
    {
     "data": {
      "text/html": [
       "<div>\n",
       "<style scoped>\n",
       "    .dataframe tbody tr th:only-of-type {\n",
       "        vertical-align: middle;\n",
       "    }\n",
       "\n",
       "    .dataframe tbody tr th {\n",
       "        vertical-align: top;\n",
       "    }\n",
       "\n",
       "    .dataframe thead th {\n",
       "        text-align: right;\n",
       "    }\n",
       "</style>\n",
       "<table border=\"1\" class=\"dataframe\">\n",
       "  <thead>\n",
       "    <tr style=\"text-align: right;\">\n",
       "      <th></th>\n",
       "      <th>time</th>\n",
       "      <th>latitude</th>\n",
       "      <th>longitude</th>\n",
       "      <th>depth</th>\n",
       "      <th>mag</th>\n",
       "      <th>magType</th>\n",
       "      <th>nst</th>\n",
       "      <th>gap</th>\n",
       "      <th>dmin</th>\n",
       "      <th>rms</th>\n",
       "      <th>...</th>\n",
       "      <th>updated</th>\n",
       "      <th>place</th>\n",
       "      <th>type</th>\n",
       "      <th>horizontalError</th>\n",
       "      <th>depthError</th>\n",
       "      <th>magError</th>\n",
       "      <th>magNst</th>\n",
       "      <th>status</th>\n",
       "      <th>locationSource</th>\n",
       "      <th>magSource</th>\n",
       "    </tr>\n",
       "  </thead>\n",
       "  <tbody>\n",
       "    <tr>\n",
       "      <th>0</th>\n",
       "      <td>1973-03-17T07:43:05.500Z</td>\n",
       "      <td>36.087000</td>\n",
       "      <td>-106.168000</td>\n",
       "      <td>6.00</td>\n",
       "      <td>4.50</td>\n",
       "      <td>mb</td>\n",
       "      <td>NaN</td>\n",
       "      <td>NaN</td>\n",
       "      <td>NaN</td>\n",
       "      <td>NaN</td>\n",
       "      <td>...</td>\n",
       "      <td>2014-11-06T23:21:10.078Z</td>\n",
       "      <td>New Mexico</td>\n",
       "      <td>earthquake</td>\n",
       "      <td>NaN</td>\n",
       "      <td>NaN</td>\n",
       "      <td>NaN</td>\n",
       "      <td>NaN</td>\n",
       "      <td>reviewed</td>\n",
       "      <td>us</td>\n",
       "      <td>us</td>\n",
       "    </tr>\n",
       "    <tr>\n",
       "      <th>1</th>\n",
       "      <td>1973-05-25T14:40:13.900Z</td>\n",
       "      <td>33.917000</td>\n",
       "      <td>-90.775000</td>\n",
       "      <td>6.00</td>\n",
       "      <td>NaN</td>\n",
       "      <td>NaN</td>\n",
       "      <td>NaN</td>\n",
       "      <td>NaN</td>\n",
       "      <td>NaN</td>\n",
       "      <td>NaN</td>\n",
       "      <td>...</td>\n",
       "      <td>2014-11-06T23:21:12.859Z</td>\n",
       "      <td>Mississippi</td>\n",
       "      <td>earthquake</td>\n",
       "      <td>NaN</td>\n",
       "      <td>NaN</td>\n",
       "      <td>NaN</td>\n",
       "      <td>NaN</td>\n",
       "      <td>reviewed</td>\n",
       "      <td>s</td>\n",
       "      <td>us</td>\n",
       "    </tr>\n",
       "    <tr>\n",
       "      <th>2</th>\n",
       "      <td>1973-09-19T13:28:20.500Z</td>\n",
       "      <td>37.160000</td>\n",
       "      <td>-104.594000</td>\n",
       "      <td>5.00</td>\n",
       "      <td>NaN</td>\n",
       "      <td>NaN</td>\n",
       "      <td>NaN</td>\n",
       "      <td>NaN</td>\n",
       "      <td>NaN</td>\n",
       "      <td>NaN</td>\n",
       "      <td>...</td>\n",
       "      <td>2014-11-06T23:21:20.295Z</td>\n",
       "      <td>Colorado</td>\n",
       "      <td>earthquake</td>\n",
       "      <td>NaN</td>\n",
       "      <td>NaN</td>\n",
       "      <td>NaN</td>\n",
       "      <td>NaN</td>\n",
       "      <td>reviewed</td>\n",
       "      <td>us</td>\n",
       "      <td>us</td>\n",
       "    </tr>\n",
       "    <tr>\n",
       "      <th>3</th>\n",
       "      <td>1973-09-23T03:58:54.900Z</td>\n",
       "      <td>37.148000</td>\n",
       "      <td>-104.571000</td>\n",
       "      <td>5.00</td>\n",
       "      <td>4.20</td>\n",
       "      <td>mb</td>\n",
       "      <td>NaN</td>\n",
       "      <td>NaN</td>\n",
       "      <td>NaN</td>\n",
       "      <td>NaN</td>\n",
       "      <td>...</td>\n",
       "      <td>2014-11-06T23:21:20.346Z</td>\n",
       "      <td>Colorado</td>\n",
       "      <td>earthquake</td>\n",
       "      <td>NaN</td>\n",
       "      <td>NaN</td>\n",
       "      <td>NaN</td>\n",
       "      <td>NaN</td>\n",
       "      <td>reviewed</td>\n",
       "      <td>us</td>\n",
       "      <td>us</td>\n",
       "    </tr>\n",
       "    <tr>\n",
       "      <th>4</th>\n",
       "      <td>1974-02-15T13:33:49.200Z</td>\n",
       "      <td>36.500000</td>\n",
       "      <td>-100.693000</td>\n",
       "      <td>24.00</td>\n",
       "      <td>4.50</td>\n",
       "      <td>mb</td>\n",
       "      <td>NaN</td>\n",
       "      <td>NaN</td>\n",
       "      <td>NaN</td>\n",
       "      <td>NaN</td>\n",
       "      <td>...</td>\n",
       "      <td>2014-11-06T23:21:22.859Z</td>\n",
       "      <td>Oklahoma</td>\n",
       "      <td>earthquake</td>\n",
       "      <td>NaN</td>\n",
       "      <td>NaN</td>\n",
       "      <td>NaN</td>\n",
       "      <td>NaN</td>\n",
       "      <td>reviewed</td>\n",
       "      <td>us</td>\n",
       "      <td>us</td>\n",
       "    </tr>\n",
       "    <tr>\n",
       "      <th>...</th>\n",
       "      <td>...</td>\n",
       "      <td>...</td>\n",
       "      <td>...</td>\n",
       "      <td>...</td>\n",
       "      <td>...</td>\n",
       "      <td>...</td>\n",
       "      <td>...</td>\n",
       "      <td>...</td>\n",
       "      <td>...</td>\n",
       "      <td>...</td>\n",
       "      <td>...</td>\n",
       "      <td>...</td>\n",
       "      <td>...</td>\n",
       "      <td>...</td>\n",
       "      <td>...</td>\n",
       "      <td>...</td>\n",
       "      <td>...</td>\n",
       "      <td>...</td>\n",
       "      <td>...</td>\n",
       "      <td>...</td>\n",
       "      <td>...</td>\n",
       "    </tr>\n",
       "    <tr>\n",
       "      <th>13941</th>\n",
       "      <td>2016-09-20T05:38:38.350Z</td>\n",
       "      <td>36.373500</td>\n",
       "      <td>-96.818700</td>\n",
       "      <td>4.69</td>\n",
       "      <td>2.30</td>\n",
       "      <td>ml</td>\n",
       "      <td>NaN</td>\n",
       "      <td>54.0</td>\n",
       "      <td>0.01800</td>\n",
       "      <td>0.16</td>\n",
       "      <td>...</td>\n",
       "      <td>2016-09-20T16:13:04.040Z</td>\n",
       "      <td>Oklahoma</td>\n",
       "      <td>earthquake</td>\n",
       "      <td>0.90</td>\n",
       "      <td>1.80</td>\n",
       "      <td>0.059</td>\n",
       "      <td>38.0</td>\n",
       "      <td>reviewed</td>\n",
       "      <td>us</td>\n",
       "      <td>us</td>\n",
       "    </tr>\n",
       "    <tr>\n",
       "      <th>13942</th>\n",
       "      <td>2016-09-20T06:36:35.520Z</td>\n",
       "      <td>36.412200</td>\n",
       "      <td>-96.882400</td>\n",
       "      <td>4.41</td>\n",
       "      <td>1.40</td>\n",
       "      <td>ml</td>\n",
       "      <td>NaN</td>\n",
       "      <td>59.0</td>\n",
       "      <td>0.02500</td>\n",
       "      <td>0.18</td>\n",
       "      <td>...</td>\n",
       "      <td>2016-09-20T16:21:03.040Z</td>\n",
       "      <td>Oklahoma</td>\n",
       "      <td>earthquake</td>\n",
       "      <td>0.80</td>\n",
       "      <td>2.00</td>\n",
       "      <td>0.062</td>\n",
       "      <td>34.0</td>\n",
       "      <td>reviewed</td>\n",
       "      <td>us</td>\n",
       "      <td>us</td>\n",
       "    </tr>\n",
       "    <tr>\n",
       "      <th>13943</th>\n",
       "      <td>2016-09-20T16:01:08.610Z</td>\n",
       "      <td>37.277167</td>\n",
       "      <td>-98.072667</td>\n",
       "      <td>5.85</td>\n",
       "      <td>2.43</td>\n",
       "      <td>ml</td>\n",
       "      <td>15.0</td>\n",
       "      <td>237.0</td>\n",
       "      <td>0.05185</td>\n",
       "      <td>0.04</td>\n",
       "      <td>...</td>\n",
       "      <td>2016-09-20T19:08:23.720Z</td>\n",
       "      <td>Kansas</td>\n",
       "      <td>earthquake</td>\n",
       "      <td>0.38</td>\n",
       "      <td>0.33</td>\n",
       "      <td>0.179</td>\n",
       "      <td>17.0</td>\n",
       "      <td>reviewed</td>\n",
       "      <td>ismp</td>\n",
       "      <td>ismp</td>\n",
       "    </tr>\n",
       "    <tr>\n",
       "      <th>13944</th>\n",
       "      <td>2016-09-20T17:31:48.380Z</td>\n",
       "      <td>36.939300</td>\n",
       "      <td>-97.896000</td>\n",
       "      <td>2.32</td>\n",
       "      <td>3.00</td>\n",
       "      <td>mb_lg</td>\n",
       "      <td>NaN</td>\n",
       "      <td>37.0</td>\n",
       "      <td>0.05600</td>\n",
       "      <td>0.18</td>\n",
       "      <td>...</td>\n",
       "      <td>2016-09-20T17:43:43.040Z</td>\n",
       "      <td>Oklahoma</td>\n",
       "      <td>earthquake</td>\n",
       "      <td>1.00</td>\n",
       "      <td>3.70</td>\n",
       "      <td>0.076</td>\n",
       "      <td>45.0</td>\n",
       "      <td>reviewed</td>\n",
       "      <td>us</td>\n",
       "      <td>us</td>\n",
       "    </tr>\n",
       "    <tr>\n",
       "      <th>13945</th>\n",
       "      <td>2016-09-20T17:45:59.920Z</td>\n",
       "      <td>36.940500</td>\n",
       "      <td>-97.906300</td>\n",
       "      <td>7.20</td>\n",
       "      <td>2.50</td>\n",
       "      <td>mb_lg</td>\n",
       "      <td>NaN</td>\n",
       "      <td>39.0</td>\n",
       "      <td>0.04800</td>\n",
       "      <td>0.35</td>\n",
       "      <td>...</td>\n",
       "      <td>2016-09-20T19:48:57.396Z</td>\n",
       "      <td>Oklahoma</td>\n",
       "      <td>earthquake</td>\n",
       "      <td>1.00</td>\n",
       "      <td>3.40</td>\n",
       "      <td>0.170</td>\n",
       "      <td>9.0</td>\n",
       "      <td>reviewed</td>\n",
       "      <td>us</td>\n",
       "      <td>us</td>\n",
       "    </tr>\n",
       "  </tbody>\n",
       "</table>\n",
       "<p>13946 rows × 22 columns</p>\n",
       "</div>"
      ],
      "text/plain": [
       "                           time   latitude   longitude  depth   mag magType  \\\n",
       "0      1973-03-17T07:43:05.500Z  36.087000 -106.168000   6.00  4.50      mb   \n",
       "1      1973-05-25T14:40:13.900Z  33.917000  -90.775000   6.00   NaN     NaN   \n",
       "2      1973-09-19T13:28:20.500Z  37.160000 -104.594000   5.00   NaN     NaN   \n",
       "3      1973-09-23T03:58:54.900Z  37.148000 -104.571000   5.00  4.20      mb   \n",
       "4      1974-02-15T13:33:49.200Z  36.500000 -100.693000  24.00  4.50      mb   \n",
       "...                         ...        ...         ...    ...   ...     ...   \n",
       "13941  2016-09-20T05:38:38.350Z  36.373500  -96.818700   4.69  2.30      ml   \n",
       "13942  2016-09-20T06:36:35.520Z  36.412200  -96.882400   4.41  1.40      ml   \n",
       "13943  2016-09-20T16:01:08.610Z  37.277167  -98.072667   5.85  2.43      ml   \n",
       "13944  2016-09-20T17:31:48.380Z  36.939300  -97.896000   2.32  3.00   mb_lg   \n",
       "13945  2016-09-20T17:45:59.920Z  36.940500  -97.906300   7.20  2.50   mb_lg   \n",
       "\n",
       "        nst    gap     dmin   rms  ...                   updated        place  \\\n",
       "0       NaN    NaN      NaN   NaN  ...  2014-11-06T23:21:10.078Z   New Mexico   \n",
       "1       NaN    NaN      NaN   NaN  ...  2014-11-06T23:21:12.859Z  Mississippi   \n",
       "2       NaN    NaN      NaN   NaN  ...  2014-11-06T23:21:20.295Z     Colorado   \n",
       "3       NaN    NaN      NaN   NaN  ...  2014-11-06T23:21:20.346Z     Colorado   \n",
       "4       NaN    NaN      NaN   NaN  ...  2014-11-06T23:21:22.859Z     Oklahoma   \n",
       "...     ...    ...      ...   ...  ...                       ...          ...   \n",
       "13941   NaN   54.0  0.01800  0.16  ...  2016-09-20T16:13:04.040Z     Oklahoma   \n",
       "13942   NaN   59.0  0.02500  0.18  ...  2016-09-20T16:21:03.040Z     Oklahoma   \n",
       "13943  15.0  237.0  0.05185  0.04  ...  2016-09-20T19:08:23.720Z       Kansas   \n",
       "13944   NaN   37.0  0.05600  0.18  ...  2016-09-20T17:43:43.040Z     Oklahoma   \n",
       "13945   NaN   39.0  0.04800  0.35  ...  2016-09-20T19:48:57.396Z     Oklahoma   \n",
       "\n",
       "             type horizontalError depthError  magError  magNst    status  \\\n",
       "0      earthquake             NaN        NaN       NaN     NaN  reviewed   \n",
       "1      earthquake             NaN        NaN       NaN     NaN  reviewed   \n",
       "2      earthquake             NaN        NaN       NaN     NaN  reviewed   \n",
       "3      earthquake             NaN        NaN       NaN     NaN  reviewed   \n",
       "4      earthquake             NaN        NaN       NaN     NaN  reviewed   \n",
       "...           ...             ...        ...       ...     ...       ...   \n",
       "13941  earthquake            0.90       1.80     0.059    38.0  reviewed   \n",
       "13942  earthquake            0.80       2.00     0.062    34.0  reviewed   \n",
       "13943  earthquake            0.38       0.33     0.179    17.0  reviewed   \n",
       "13944  earthquake            1.00       3.70     0.076    45.0  reviewed   \n",
       "13945  earthquake            1.00       3.40     0.170     9.0  reviewed   \n",
       "\n",
       "       locationSource magSource  \n",
       "0                  us        us  \n",
       "1                   s        us  \n",
       "2                  us        us  \n",
       "3                  us        us  \n",
       "4                  us        us  \n",
       "...               ...       ...  \n",
       "13941              us        us  \n",
       "13942              us        us  \n",
       "13943            ismp      ismp  \n",
       "13944              us        us  \n",
       "13945              us        us  \n",
       "\n",
       "[13946 rows x 22 columns]"
      ]
     },
     "execution_count": 2,
     "metadata": {},
     "output_type": "execute_result"
    }
   ],
   "source": [
    "ok_quakes_df"
   ]
  },
  {
   "cell_type": "code",
   "execution_count": 3,
   "metadata": {},
   "outputs": [
    {
     "data": {
      "text/plain": [
       "Index(['time', 'latitude', 'longitude', 'depth', 'mag', 'magType', 'nst',\n",
       "       'gap', 'dmin', 'rms', 'net', 'id', 'updated', 'place', 'type',\n",
       "       'horizontalError', 'depthError', 'magError', 'magNst', 'status',\n",
       "       'locationSource', 'magSource'],\n",
       "      dtype='object')"
      ]
     },
     "execution_count": 3,
     "metadata": {},
     "output_type": "execute_result"
    }
   ],
   "source": [
    "ok_quakes_df.columns"
   ]
  },
  {
   "cell_type": "code",
   "execution_count": 4,
   "metadata": {},
   "outputs": [
    {
     "data": {
      "text/plain": [
       "<matplotlib.axes._subplots.AxesSubplot at 0x14f6c781a58>"
      ]
     },
     "execution_count": 4,
     "metadata": {},
     "output_type": "execute_result"
    },
    {
     "data": {
      "image/png": "[encoded data removed]",
      "text/plain": [
       "<Figure size 432x288 with 1 Axes>"
      ]
     },
     "metadata": {
      "needs_background": "light"
     },
     "output_type": "display_data"
    }
   ],
   "source": [
    "#Determine number of earthquakes by state\n",
    "earthquake_place_ct = ok_quakes_df['place'].value_counts()\n",
    "\n",
    "#Plot bar chart to display number of earthquakes by state\n",
    "state_quakes = earthquake_place_ct.plot.bar(x=\"State\", y=\"Count\",rot=90)\n",
    "plt.title(\"Total Number of Earthquakes by State\")\n",
    "plt.xlabel(\"State\")\n",
    "plt.ylabel(\"Count\")\n",
    "#save image\n",
    "plt.savefig(\"PlotImages/TotalQuakesByState.png\",bbox_inches=\"tight\")\n",
    "state_quakes"
   ]
  },
  {
   "cell_type": "code",
   "execution_count": 5,
   "metadata": {},
   "outputs": [
    {
     "data": {
      "text/html": [
       "<div>\n",
       "<style scoped>\n",
       "    .dataframe tbody tr th:only-of-type {\n",
       "        vertical-align: middle;\n",
       "    }\n",
       "\n",
       "    .dataframe tbody tr th {\n",
       "        vertical-align: top;\n",
       "    }\n",
       "\n",
       "    .dataframe thead th {\n",
       "        text-align: right;\n",
       "    }\n",
       "</style>\n",
       "<table border=\"1\" class=\"dataframe\">\n",
       "  <thead>\n",
       "    <tr style=\"text-align: right;\">\n",
       "      <th></th>\n",
       "      <th>API#</th>\n",
       "      <th>Operator</th>\n",
       "      <th>Operator ID</th>\n",
       "      <th>WellType</th>\n",
       "      <th>WellName</th>\n",
       "      <th>WellNumber</th>\n",
       "      <th>OrderNumbers</th>\n",
       "      <th>Approval Date</th>\n",
       "      <th>County</th>\n",
       "      <th>Sec</th>\n",
       "      <th>...</th>\n",
       "      <th>Rng</th>\n",
       "      <th>QQQQ</th>\n",
       "      <th>LAT</th>\n",
       "      <th>LONG</th>\n",
       "      <th>PSI</th>\n",
       "      <th>BBLS</th>\n",
       "      <th>ZONE</th>\n",
       "      <th>Unnamed: 18</th>\n",
       "      <th>Unnamed: 19</th>\n",
       "      <th>Unnamed: 20</th>\n",
       "    </tr>\n",
       "  </thead>\n",
       "  <tbody>\n",
       "    <tr>\n",
       "      <th>0</th>\n",
       "      <td>3.500300e+09</td>\n",
       "      <td>PHOENIX PETROCORP INC</td>\n",
       "      <td>19499.0</td>\n",
       "      <td>2R</td>\n",
       "      <td>SE EUREKA UNIT-TUCKER #1</td>\n",
       "      <td>21</td>\n",
       "      <td>1.338560e+05</td>\n",
       "      <td>9/6/1977</td>\n",
       "      <td>ALFALFA</td>\n",
       "      <td>13</td>\n",
       "      <td>...</td>\n",
       "      <td>10W</td>\n",
       "      <td>C-SE SE</td>\n",
       "      <td>36.900324</td>\n",
       "      <td>-98.218260</td>\n",
       "      <td>2,500</td>\n",
       "      <td>300</td>\n",
       "      <td>CHEROKEE</td>\n",
       "      <td>NaN</td>\n",
       "      <td>NaN</td>\n",
       "      <td>NaN</td>\n",
       "    </tr>\n",
       "    <tr>\n",
       "      <th>1</th>\n",
       "      <td>3.500300e+09</td>\n",
       "      <td>CHAMPLIN EXPLORATION INC</td>\n",
       "      <td>4030.0</td>\n",
       "      <td>2R</td>\n",
       "      <td>CHRISTENSEN</td>\n",
       "      <td>1</td>\n",
       "      <td>4.702580e+05</td>\n",
       "      <td>11/27/2002</td>\n",
       "      <td>ALFALFA</td>\n",
       "      <td>21</td>\n",
       "      <td>...</td>\n",
       "      <td>09W</td>\n",
       "      <td>C-NW NW</td>\n",
       "      <td>36.896636</td>\n",
       "      <td>-98.177720</td>\n",
       "      <td>2,400</td>\n",
       "      <td>1,000</td>\n",
       "      <td>RED FORK</td>\n",
       "      <td>NaN</td>\n",
       "      <td>NaN</td>\n",
       "      <td>NaN</td>\n",
       "    </tr>\n",
       "    <tr>\n",
       "      <th>2</th>\n",
       "      <td>3.500321e+09</td>\n",
       "      <td>LINN OPERATING INC</td>\n",
       "      <td>22182.0</td>\n",
       "      <td>2R</td>\n",
       "      <td>NE CHEROKEE UNIT</td>\n",
       "      <td>85</td>\n",
       "      <td>3.294260e+05</td>\n",
       "      <td>8/19/1988</td>\n",
       "      <td>ALFALFA</td>\n",
       "      <td>24</td>\n",
       "      <td>...</td>\n",
       "      <td>11W</td>\n",
       "      <td>SE NE</td>\n",
       "      <td>36.806113</td>\n",
       "      <td>-98.325840</td>\n",
       "      <td>1,050</td>\n",
       "      <td>1,000</td>\n",
       "      <td>RED FORK</td>\n",
       "      <td>NaN</td>\n",
       "      <td>NaN</td>\n",
       "      <td>NaN</td>\n",
       "    </tr>\n",
       "    <tr>\n",
       "      <th>3</th>\n",
       "      <td>3.500321e+09</td>\n",
       "      <td>SANDRIDGE EXPLORATION &amp; PRODUCTION LLC</td>\n",
       "      <td>22281.0</td>\n",
       "      <td>2R</td>\n",
       "      <td>VELMA</td>\n",
       "      <td>2-19</td>\n",
       "      <td>2.816520e+05</td>\n",
       "      <td>7/11/1985</td>\n",
       "      <td>ALFALFA</td>\n",
       "      <td>19</td>\n",
       "      <td>...</td>\n",
       "      <td>10W</td>\n",
       "      <td>SW NE NE SW</td>\n",
       "      <td>36.888589</td>\n",
       "      <td>-98.318530</td>\n",
       "      <td>3,152</td>\n",
       "      <td>1,000</td>\n",
       "      <td>RED FORK</td>\n",
       "      <td>NaN</td>\n",
       "      <td>NaN</td>\n",
       "      <td>NaN</td>\n",
       "    </tr>\n",
       "    <tr>\n",
       "      <th>4</th>\n",
       "      <td>3.500321e+09</td>\n",
       "      <td>CHAMPLIN EXPLORATION INC</td>\n",
       "      <td>4030.0</td>\n",
       "      <td>2R</td>\n",
       "      <td>GRAY</td>\n",
       "      <td>1A</td>\n",
       "      <td>4.702570e+05</td>\n",
       "      <td>11/27/2002</td>\n",
       "      <td>ALFALFA</td>\n",
       "      <td>20</td>\n",
       "      <td>...</td>\n",
       "      <td>09W</td>\n",
       "      <td>SE SW NW</td>\n",
       "      <td>36.892128</td>\n",
       "      <td>-98.194620</td>\n",
       "      <td>1,000</td>\n",
       "      <td>2,400</td>\n",
       "      <td>RED FORK</td>\n",
       "      <td>NaN</td>\n",
       "      <td>NaN</td>\n",
       "      <td>NaN</td>\n",
       "    </tr>\n",
       "    <tr>\n",
       "      <th>...</th>\n",
       "      <td>...</td>\n",
       "      <td>...</td>\n",
       "      <td>...</td>\n",
       "      <td>...</td>\n",
       "      <td>...</td>\n",
       "      <td>...</td>\n",
       "      <td>...</td>\n",
       "      <td>...</td>\n",
       "      <td>...</td>\n",
       "      <td>...</td>\n",
       "      <td>...</td>\n",
       "      <td>...</td>\n",
       "      <td>...</td>\n",
       "      <td>...</td>\n",
       "      <td>...</td>\n",
       "      <td>...</td>\n",
       "      <td>...</td>\n",
       "      <td>...</td>\n",
       "      <td>...</td>\n",
       "      <td>...</td>\n",
       "      <td>...</td>\n",
       "    </tr>\n",
       "    <tr>\n",
       "      <th>11121</th>\n",
       "      <td>3.515324e+09</td>\n",
       "      <td>SANDRIDGE EXPLORATION &amp; PRODUCTION LLC</td>\n",
       "      <td>22281.0</td>\n",
       "      <td>2D</td>\n",
       "      <td>JIMMIE SWD</td>\n",
       "      <td>1-28</td>\n",
       "      <td>1.303440e+09</td>\n",
       "      <td>12/7/2012</td>\n",
       "      <td>WOODWARD</td>\n",
       "      <td>28</td>\n",
       "      <td>...</td>\n",
       "      <td>18W</td>\n",
       "      <td>E2 W2 SW SW</td>\n",
       "      <td>36.436857</td>\n",
       "      <td>-99.137391</td>\n",
       "      <td>2,940</td>\n",
       "      <td>60,000</td>\n",
       "      <td>MUSSELLEM, OKLAHOMA</td>\n",
       "      <td>NaN</td>\n",
       "      <td>NaN</td>\n",
       "      <td>NaN</td>\n",
       "    </tr>\n",
       "    <tr>\n",
       "      <th>11122</th>\n",
       "      <td>3.515324e+09</td>\n",
       "      <td>OVERFLOW ENERGY, LLC</td>\n",
       "      <td>22383.0</td>\n",
       "      <td>CDW</td>\n",
       "      <td>MUTUAL SWD</td>\n",
       "      <td>1</td>\n",
       "      <td>1.608510e+09</td>\n",
       "      <td>10/21/2016</td>\n",
       "      <td>WOODWARD</td>\n",
       "      <td>09</td>\n",
       "      <td>...</td>\n",
       "      <td>18W</td>\n",
       "      <td>N2 NE NE</td>\n",
       "      <td>0.000000</td>\n",
       "      <td>0.000000</td>\n",
       "      <td>1,625</td>\n",
       "      <td>25,000</td>\n",
       "      <td>DOUGLAS, WOLFCAMP</td>\n",
       "      <td>NaN</td>\n",
       "      <td>NaN</td>\n",
       "      <td>NaN</td>\n",
       "    </tr>\n",
       "    <tr>\n",
       "      <th>11123</th>\n",
       "      <td>3.515324e+09</td>\n",
       "      <td>RED MOUNTAIN OPERATING, LLC</td>\n",
       "      <td>23694.0</td>\n",
       "      <td>2D</td>\n",
       "      <td>HEDGES</td>\n",
       "      <td>1 SWD</td>\n",
       "      <td>1.703870e+09</td>\n",
       "      <td>12/28/2016</td>\n",
       "      <td>WOODWARD</td>\n",
       "      <td>14</td>\n",
       "      <td>...</td>\n",
       "      <td>17W</td>\n",
       "      <td>SW SE SE</td>\n",
       "      <td>0.000000</td>\n",
       "      <td>0.000000</td>\n",
       "      <td>1,550</td>\n",
       "      <td>15,000</td>\n",
       "      <td>VIRGILIAN, WOLFCAMP,</td>\n",
       "      <td>NaN</td>\n",
       "      <td>NaN</td>\n",
       "      <td>NaN</td>\n",
       "    </tr>\n",
       "    <tr>\n",
       "      <th>11124</th>\n",
       "      <td>3.515324e+09</td>\n",
       "      <td>RED MOUNTAIN OPERATING, LLC</td>\n",
       "      <td>23695.0</td>\n",
       "      <td>2D</td>\n",
       "      <td>GARVIE</td>\n",
       "      <td>1 SWD</td>\n",
       "      <td>1.703600e+09</td>\n",
       "      <td>12/28/2016</td>\n",
       "      <td>WOODWARD</td>\n",
       "      <td>33</td>\n",
       "      <td>...</td>\n",
       "      <td>17W</td>\n",
       "      <td>NW NE NE</td>\n",
       "      <td>0.000000</td>\n",
       "      <td>0.000000</td>\n",
       "      <td>1,550</td>\n",
       "      <td>15,000</td>\n",
       "      <td>ADMIRE, CHASE, COUNCIL GROVE, DOUGLAS, PONTOTO...</td>\n",
       "      <td>NaN</td>\n",
       "      <td>NaN</td>\n",
       "      <td>NaN</td>\n",
       "    </tr>\n",
       "    <tr>\n",
       "      <th>11125</th>\n",
       "      <td>NaN</td>\n",
       "      <td>NaN</td>\n",
       "      <td>NaN</td>\n",
       "      <td>NaN</td>\n",
       "      <td>NaN</td>\n",
       "      <td>NaN</td>\n",
       "      <td>NaN</td>\n",
       "      <td>NaN</td>\n",
       "      <td>NaN</td>\n",
       "      <td>NaN</td>\n",
       "      <td>...</td>\n",
       "      <td>NaN</td>\n",
       "      <td>NaN</td>\n",
       "      <td>NaN</td>\n",
       "      <td>NaN</td>\n",
       "      <td>NaN</td>\n",
       "      <td>NaN</td>\n",
       "      <td>NaN</td>\n",
       "      <td>NaN</td>\n",
       "      <td>NaN</td>\n",
       "      <td>NaN</td>\n",
       "    </tr>\n",
       "  </tbody>\n",
       "</table>\n",
       "<p>11126 rows × 21 columns</p>\n",
       "</div>"
      ],
      "text/plain": [
       "               API#                                Operator  Operator ID  \\\n",
       "0      3.500300e+09                   PHOENIX PETROCORP INC      19499.0   \n",
       "1      3.500300e+09                CHAMPLIN EXPLORATION INC       4030.0   \n",
       "2      3.500321e+09                      LINN OPERATING INC      22182.0   \n",
       "3      3.500321e+09  SANDRIDGE EXPLORATION & PRODUCTION LLC      22281.0   \n",
       "4      3.500321e+09                CHAMPLIN EXPLORATION INC       4030.0   \n",
       "...             ...                                     ...          ...   \n",
       "11121  3.515324e+09  SANDRIDGE EXPLORATION & PRODUCTION LLC      22281.0   \n",
       "11122  3.515324e+09                    OVERFLOW ENERGY, LLC      22383.0   \n",
       "11123  3.515324e+09             RED MOUNTAIN OPERATING, LLC      23694.0   \n",
       "11124  3.515324e+09             RED MOUNTAIN OPERATING, LLC      23695.0   \n",
       "11125           NaN                                     NaN          NaN   \n",
       "\n",
       "      WellType                  WellName WellNumber  OrderNumbers  \\\n",
       "0           2R  SE EUREKA UNIT-TUCKER #1         21  1.338560e+05   \n",
       "1           2R               CHRISTENSEN          1  4.702580e+05   \n",
       "2           2R          NE CHEROKEE UNIT         85  3.294260e+05   \n",
       "3           2R                     VELMA       2-19  2.816520e+05   \n",
       "4           2R                      GRAY         1A  4.702570e+05   \n",
       "...        ...                       ...        ...           ...   \n",
       "11121       2D                JIMMIE SWD       1-28  1.303440e+09   \n",
       "11122      CDW               MUTUAL SWD           1  1.608510e+09   \n",
       "11123       2D                   HEDGES       1 SWD  1.703870e+09   \n",
       "11124       2D                   GARVIE       1 SWD  1.703600e+09   \n",
       "11125      NaN                       NaN        NaN           NaN   \n",
       "\n",
       "      Approval Date    County  Sec  ...  Rng         QQQQ        LAT  \\\n",
       "0          9/6/1977   ALFALFA   13  ...  10W      C-SE SE  36.900324   \n",
       "1        11/27/2002   ALFALFA   21  ...  09W      C-NW NW  36.896636   \n",
       "2         8/19/1988   ALFALFA   24  ...  11W        SE NE  36.806113   \n",
       "3         7/11/1985   ALFALFA   19  ...  10W  SW NE NE SW  36.888589   \n",
       "4        11/27/2002   ALFALFA   20  ...  09W     SE SW NW  36.892128   \n",
       "...             ...       ...  ...  ...  ...          ...        ...   \n",
       "11121     12/7/2012  WOODWARD   28  ...  18W  E2 W2 SW SW  36.436857   \n",
       "11122    10/21/2016  WOODWARD   09  ...  18W     N2 NE NE   0.000000   \n",
       "11123    12/28/2016  WOODWARD   14  ...  17W     SW SE SE   0.000000   \n",
       "11124    12/28/2016  WOODWARD   33  ...  17W     NW NE NE   0.000000   \n",
       "11125           NaN       NaN  NaN  ...  NaN          NaN        NaN   \n",
       "\n",
       "            LONG    PSI    BBLS  \\\n",
       "0     -98.218260  2,500     300   \n",
       "1     -98.177720  2,400   1,000   \n",
       "2     -98.325840  1,050   1,000   \n",
       "3     -98.318530  3,152   1,000   \n",
       "4     -98.194620  1,000   2,400   \n",
       "...          ...    ...     ...   \n",
       "11121 -99.137391  2,940  60,000   \n",
       "11122   0.000000  1,625  25,000   \n",
       "11123   0.000000  1,550  15,000   \n",
       "11124   0.000000  1,550  15,000   \n",
       "11125        NaN    NaN     NaN   \n",
       "\n",
       "                                                    ZONE Unnamed: 18  \\\n",
       "0                                               CHEROKEE         NaN   \n",
       "1                                               RED FORK         NaN   \n",
       "2                                               RED FORK         NaN   \n",
       "3                                               RED FORK         NaN   \n",
       "4                                               RED FORK         NaN   \n",
       "...                                                  ...         ...   \n",
       "11121                                MUSSELLEM, OKLAHOMA         NaN   \n",
       "11122                                 DOUGLAS, WOLFCAMP          NaN   \n",
       "11123                               VIRGILIAN, WOLFCAMP,         NaN   \n",
       "11124  ADMIRE, CHASE, COUNCIL GROVE, DOUGLAS, PONTOTO...         NaN   \n",
       "11125                                                NaN         NaN   \n",
       "\n",
       "       Unnamed: 19  Unnamed: 20  \n",
       "0              NaN          NaN  \n",
       "1              NaN          NaN  \n",
       "2              NaN          NaN  \n",
       "3              NaN          NaN  \n",
       "4              NaN          NaN  \n",
       "...            ...          ...  \n",
       "11121          NaN          NaN  \n",
       "11122          NaN          NaN  \n",
       "11123          NaN          NaN  \n",
       "11124          NaN          NaN  \n",
       "11125          NaN          NaN  \n",
       "\n",
       "[11126 rows x 21 columns]"
      ]
     },
     "execution_count": 5,
     "metadata": {},
     "output_type": "execute_result"
    }
   ],
   "source": [
    "ok_wells_df"
   ]
  },
  {
   "cell_type": "code",
   "execution_count": 6,
   "metadata": {},
   "outputs": [
    {
     "data": {
      "text/plain": [
       "Index(['API#', 'Operator', 'Operator ID', 'WellType', 'WellName', 'WellNumber',\n",
       "       'OrderNumbers', 'Approval Date', 'County', 'Sec', 'Twp', 'Rng', 'QQQQ',\n",
       "       'LAT', 'LONG', 'PSI', 'BBLS', 'ZONE', 'Unnamed: 18', 'Unnamed: 19',\n",
       "       'Unnamed: 20'],\n",
       "      dtype='object')"
      ]
     },
     "execution_count": 6,
     "metadata": {},
     "output_type": "execute_result"
    }
   ],
   "source": [
    "ok_wells_df.columns"
   ]
  },
  {
   "cell_type": "markdown",
   "metadata": {},
   "source": [
    "## CLEAN UP"
   ]
  },
  {
   "cell_type": "markdown",
   "metadata": {},
   "source": [
    "### Earthquakes DF"
   ]
  },
  {
   "cell_type": "code",
   "execution_count": 7,
   "metadata": {},
   "outputs": [
    {
     "data": {
      "text/plain": [
       "array(['New Mexico', 'Mississippi', 'Colorado', 'Oklahoma', 'Arkansas',\n",
       "       'Missouri', 'Texas', 'Nebraska', 'Kansas', 'Louisiana', 'Iowa',\n",
       "       'Mexico'], dtype=object)"
      ]
     },
     "execution_count": 7,
     "metadata": {},
     "output_type": "execute_result"
    }
   ],
   "source": [
    "#find all place names\n",
    "quake_states = ok_quakes_df[\"place\"].unique()\n",
    "quake_states"
   ]
  },
  {
   "cell_type": "code",
   "execution_count": 8,
   "metadata": {},
   "outputs": [
    {
     "data": {
      "text/plain": [
       "array(['Oklahoma'], dtype=object)"
      ]
     },
     "execution_count": 8,
     "metadata": {},
     "output_type": "execute_result"
    }
   ],
   "source": [
    "#isolate quakes to only Oklahoma\n",
    "ok_quakes_df = ok_quakes_df.loc[ok_quakes_df[\"place\"].str.contains(\"Oklahoma\")]\n",
    "ok_quakes_df[\"place\"].unique()"
   ]
  },
  {
   "cell_type": "code",
   "execution_count": 9,
   "metadata": {},
   "outputs": [
    {
     "data": {
      "text/plain": [
       "7854"
      ]
     },
     "execution_count": 9,
     "metadata": {},
     "output_type": "execute_result"
    }
   ],
   "source": [
    "len(ok_quakes_df)"
   ]
  },
  {
   "cell_type": "code",
   "execution_count": 10,
   "metadata": {},
   "outputs": [
    {
     "data": {
      "text/plain": [
       "7854"
      ]
     },
     "execution_count": 10,
     "metadata": {},
     "output_type": "execute_result"
    }
   ],
   "source": [
    "#drop any completely null rows\n",
    "ok_quakes_df = ok_quakes_df.dropna(how=\"all\")\n",
    "len(ok_quakes_df)"
   ]
  },
  {
   "cell_type": "code",
   "execution_count": 11,
   "metadata": {},
   "outputs": [
    {
     "data": {
      "text/plain": [
       "mag                   1\n",
       "magType               9\n",
       "nst                7085\n",
       "gap                 852\n",
       "dmin               6953\n",
       "rms                 663\n",
       "horizontalError    2014\n",
       "depthError          791\n",
       "magError           6675\n",
       "magNst             6572\n",
       "dtype: int64"
      ]
     },
     "execution_count": 11,
     "metadata": {},
     "output_type": "execute_result"
    }
   ],
   "source": [
    "#find individual nulls\n",
    "quakes_null_columns = ok_quakes_df.columns[ok_quakes_df.isnull().any()]\n",
    "ok_quakes_df[quakes_null_columns].isnull().sum()"
   ]
  },
  {
   "cell_type": "code",
   "execution_count": 12,
   "metadata": {},
   "outputs": [
    {
     "data": {
      "text/plain": [
       "Index(['time', 'latitude', 'longitude', 'depth', 'mag', 'magType', 'net', 'id',\n",
       "       'updated', 'place', 'type', 'status', 'locationSource', 'magSource'],\n",
       "      dtype='object')"
      ]
     },
     "execution_count": 12,
     "metadata": {},
     "output_type": "execute_result"
    }
   ],
   "source": [
    "#drop large amount of nulls and extraneous data\n",
    "clean_quakes_df = ok_quakes_df.drop(columns = [\"nst\", \"gap\", \"dmin\",\"rms\", \"horizontalError\", \"depthError\", \"magError\", \"magNst\"])\n",
    "clean_quakes_df.columns"
   ]
  },
  {
   "cell_type": "code",
   "execution_count": 13,
   "metadata": {},
   "outputs": [
    {
     "data": {
      "text/plain": [
       "['time',\n",
       " 'year',\n",
       " 'latitude',\n",
       " 'longitude',\n",
       " 'depth',\n",
       " 'mag',\n",
       " 'magType',\n",
       " 'net',\n",
       " 'id',\n",
       " 'updated',\n",
       " 'place',\n",
       " 'type',\n",
       " 'status',\n",
       " 'locationSource',\n",
       " 'magSource']"
      ]
     },
     "execution_count": 13,
     "metadata": {},
     "output_type": "execute_result"
    }
   ],
   "source": [
    "#pull out years\n",
    "clean_quakes_df['time'] = pd.to_datetime(clean_quakes_df['time'])\n",
    "clean_quakes_df['year'] = clean_quakes_df['time'].dt.year\n",
    "\n",
    "#move year column next to time\n",
    "\n",
    "#put columns in list\n",
    "QuakeCols = clean_quakes_df.columns.tolist()\n",
    "#move year to approriate column index\n",
    "QuakeCols.insert(1, 'year')\n",
    "#remove duplicate year from end of list\n",
    "QuakeCols.pop()\n",
    "QuakeCols"
   ]
  },
  {
   "cell_type": "code",
   "execution_count": 14,
   "metadata": {},
   "outputs": [
    {
     "data": {
      "text/html": [
       "<div>\n",
       "<style scoped>\n",
       "    .dataframe tbody tr th:only-of-type {\n",
       "        vertical-align: middle;\n",
       "    }\n",
       "\n",
       "    .dataframe tbody tr th {\n",
       "        vertical-align: top;\n",
       "    }\n",
       "\n",
       "    .dataframe thead th {\n",
       "        text-align: right;\n",
       "    }\n",
       "</style>\n",
       "<table border=\"1\" class=\"dataframe\">\n",
       "  <thead>\n",
       "    <tr style=\"text-align: right;\">\n",
       "      <th></th>\n",
       "      <th>time</th>\n",
       "      <th>year</th>\n",
       "      <th>latitude</th>\n",
       "      <th>longitude</th>\n",
       "      <th>depth</th>\n",
       "      <th>mag</th>\n",
       "      <th>magType</th>\n",
       "      <th>net</th>\n",
       "      <th>id</th>\n",
       "      <th>updated</th>\n",
       "      <th>place</th>\n",
       "      <th>type</th>\n",
       "      <th>status</th>\n",
       "      <th>locationSource</th>\n",
       "      <th>magSource</th>\n",
       "    </tr>\n",
       "  </thead>\n",
       "  <tbody>\n",
       "    <tr>\n",
       "      <th>4</th>\n",
       "      <td>1974-02-15 13:33:49.200000+00:00</td>\n",
       "      <td>1974</td>\n",
       "      <td>36.500</td>\n",
       "      <td>-100.693</td>\n",
       "      <td>24.0</td>\n",
       "      <td>4.5</td>\n",
       "      <td>mb</td>\n",
       "      <td>us</td>\n",
       "      <td>usp00005ac</td>\n",
       "      <td>2014-11-06T23:21:22.859Z</td>\n",
       "      <td>Oklahoma</td>\n",
       "      <td>earthquake</td>\n",
       "      <td>reviewed</td>\n",
       "      <td>us</td>\n",
       "      <td>us</td>\n",
       "    </tr>\n",
       "    <tr>\n",
       "      <th>21</th>\n",
       "      <td>1974-12-16 02:30:21.400000+00:00</td>\n",
       "      <td>1974</td>\n",
       "      <td>35.330</td>\n",
       "      <td>-97.480</td>\n",
       "      <td>10.0</td>\n",
       "      <td>2.6</td>\n",
       "      <td>ml</td>\n",
       "      <td>us</td>\n",
       "      <td>usp000094v</td>\n",
       "      <td>2014-11-06T23:21:27.851Z</td>\n",
       "      <td>Oklahoma</td>\n",
       "      <td>earthquake</td>\n",
       "      <td>reviewed</td>\n",
       "      <td>m</td>\n",
       "      <td>tul</td>\n",
       "    </tr>\n",
       "    <tr>\n",
       "      <th>33</th>\n",
       "      <td>1975-09-13 01:25:02.800000+00:00</td>\n",
       "      <td>1975</td>\n",
       "      <td>34.139</td>\n",
       "      <td>-97.369</td>\n",
       "      <td>5.0</td>\n",
       "      <td>3.4</td>\n",
       "      <td>lg</td>\n",
       "      <td>us</td>\n",
       "      <td>usp0000csk</td>\n",
       "      <td>2014-11-06T23:21:31.918Z</td>\n",
       "      <td>Oklahoma</td>\n",
       "      <td>earthquake</td>\n",
       "      <td>reviewed</td>\n",
       "      <td>us</td>\n",
       "      <td>tul</td>\n",
       "    </tr>\n",
       "    <tr>\n",
       "      <th>35</th>\n",
       "      <td>1975-10-12 02:58:11.200000+00:00</td>\n",
       "      <td>1975</td>\n",
       "      <td>34.816</td>\n",
       "      <td>-97.406</td>\n",
       "      <td>20.0</td>\n",
       "      <td>3.2</td>\n",
       "      <td>lg</td>\n",
       "      <td>us</td>\n",
       "      <td>usp0000d4a</td>\n",
       "      <td>2014-11-06T23:21:32.248Z</td>\n",
       "      <td>Oklahoma</td>\n",
       "      <td>earthquake</td>\n",
       "      <td>reviewed</td>\n",
       "      <td>us</td>\n",
       "      <td>tul</td>\n",
       "    </tr>\n",
       "    <tr>\n",
       "      <th>36</th>\n",
       "      <td>1975-11-29 14:29:40.900000+00:00</td>\n",
       "      <td>1975</td>\n",
       "      <td>34.521</td>\n",
       "      <td>-97.347</td>\n",
       "      <td>5.0</td>\n",
       "      <td>3.5</td>\n",
       "      <td>lg</td>\n",
       "      <td>us</td>\n",
       "      <td>usp0000dsb</td>\n",
       "      <td>2014-11-06T23:21:32.839Z</td>\n",
       "      <td>Oklahoma</td>\n",
       "      <td>earthquake</td>\n",
       "      <td>reviewed</td>\n",
       "      <td>us</td>\n",
       "      <td>slm</td>\n",
       "    </tr>\n",
       "    <tr>\n",
       "      <th>42</th>\n",
       "      <td>1976-03-30 09:27:01+00:00</td>\n",
       "      <td>1976</td>\n",
       "      <td>36.615</td>\n",
       "      <td>-102.083</td>\n",
       "      <td>5.0</td>\n",
       "      <td>2.7</td>\n",
       "      <td>lg</td>\n",
       "      <td>us</td>\n",
       "      <td>usp0000fq3</td>\n",
       "      <td>2014-11-06T23:21:34.688Z</td>\n",
       "      <td>Oklahoma</td>\n",
       "      <td>earthquake</td>\n",
       "      <td>reviewed</td>\n",
       "      <td>us</td>\n",
       "      <td>tul</td>\n",
       "    </tr>\n",
       "    <tr>\n",
       "      <th>45</th>\n",
       "      <td>1976-04-16 18:59:44.200000+00:00</td>\n",
       "      <td>1976</td>\n",
       "      <td>36.107</td>\n",
       "      <td>-99.875</td>\n",
       "      <td>5.0</td>\n",
       "      <td>3.4</td>\n",
       "      <td>NaN</td>\n",
       "      <td>us</td>\n",
       "      <td>usp0000fwz</td>\n",
       "      <td>2014-11-06T23:21:34.833Z</td>\n",
       "      <td>Oklahoma</td>\n",
       "      <td>earthquake</td>\n",
       "      <td>reviewed</td>\n",
       "      <td>us</td>\n",
       "      <td>tul</td>\n",
       "    </tr>\n",
       "    <tr>\n",
       "      <th>46</th>\n",
       "      <td>1976-04-19 04:42:42.200000+00:00</td>\n",
       "      <td>1976</td>\n",
       "      <td>36.134</td>\n",
       "      <td>-99.841</td>\n",
       "      <td>5.0</td>\n",
       "      <td>3.5</td>\n",
       "      <td>NaN</td>\n",
       "      <td>us</td>\n",
       "      <td>usp0000fya</td>\n",
       "      <td>2014-11-06T23:21:34.862Z</td>\n",
       "      <td>Oklahoma</td>\n",
       "      <td>earthquake</td>\n",
       "      <td>reviewed</td>\n",
       "      <td>us</td>\n",
       "      <td>tul</td>\n",
       "    </tr>\n",
       "    <tr>\n",
       "      <th>97</th>\n",
       "      <td>1979-06-07 07:39:35.600000+00:00</td>\n",
       "      <td>1979</td>\n",
       "      <td>35.187</td>\n",
       "      <td>-99.812</td>\n",
       "      <td>5.0</td>\n",
       "      <td>3.0</td>\n",
       "      <td>NaN</td>\n",
       "      <td>us</td>\n",
       "      <td>usp0001150</td>\n",
       "      <td>2014-11-06T23:22:02.344Z</td>\n",
       "      <td>Oklahoma</td>\n",
       "      <td>earthquake</td>\n",
       "      <td>reviewed</td>\n",
       "      <td>d</td>\n",
       "      <td>tul</td>\n",
       "    </tr>\n",
       "    <tr>\n",
       "      <th>101</th>\n",
       "      <td>1979-09-13 00:49:19.800000+00:00</td>\n",
       "      <td>1979</td>\n",
       "      <td>35.219</td>\n",
       "      <td>-99.518</td>\n",
       "      <td>5.0</td>\n",
       "      <td>3.4</td>\n",
       "      <td>NaN</td>\n",
       "      <td>us</td>\n",
       "      <td>usp00012xa</td>\n",
       "      <td>2014-11-06T23:22:05.405Z</td>\n",
       "      <td>Oklahoma</td>\n",
       "      <td>earthquake</td>\n",
       "      <td>reviewed</td>\n",
       "      <td>us</td>\n",
       "      <td>tul</td>\n",
       "    </tr>\n",
       "  </tbody>\n",
       "</table>\n",
       "</div>"
      ],
      "text/plain": [
       "                                time  year  latitude  longitude  depth  mag  \\\n",
       "4   1974-02-15 13:33:49.200000+00:00  1974    36.500   -100.693   24.0  4.5   \n",
       "21  1974-12-16 02:30:21.400000+00:00  1974    35.330    -97.480   10.0  2.6   \n",
       "33  1975-09-13 01:25:02.800000+00:00  1975    34.139    -97.369    5.0  3.4   \n",
       "35  1975-10-12 02:58:11.200000+00:00  1975    34.816    -97.406   20.0  3.2   \n",
       "36  1975-11-29 14:29:40.900000+00:00  1975    34.521    -97.347    5.0  3.5   \n",
       "42         1976-03-30 09:27:01+00:00  1976    36.615   -102.083    5.0  2.7   \n",
       "45  1976-04-16 18:59:44.200000+00:00  1976    36.107    -99.875    5.0  3.4   \n",
       "46  1976-04-19 04:42:42.200000+00:00  1976    36.134    -99.841    5.0  3.5   \n",
       "97  1979-06-07 07:39:35.600000+00:00  1979    35.187    -99.812    5.0  3.0   \n",
       "101 1979-09-13 00:49:19.800000+00:00  1979    35.219    -99.518    5.0  3.4   \n",
       "\n",
       "    magType net          id                   updated     place        type  \\\n",
       "4        mb  us  usp00005ac  2014-11-06T23:21:22.859Z  Oklahoma  earthquake   \n",
       "21       ml  us  usp000094v  2014-11-06T23:21:27.851Z  Oklahoma  earthquake   \n",
       "33       lg  us  usp0000csk  2014-11-06T23:21:31.918Z  Oklahoma  earthquake   \n",
       "35       lg  us  usp0000d4a  2014-11-06T23:21:32.248Z  Oklahoma  earthquake   \n",
       "36       lg  us  usp0000dsb  2014-11-06T23:21:32.839Z  Oklahoma  earthquake   \n",
       "42       lg  us  usp0000fq3  2014-11-06T23:21:34.688Z  Oklahoma  earthquake   \n",
       "45      NaN  us  usp0000fwz  2014-11-06T23:21:34.833Z  Oklahoma  earthquake   \n",
       "46      NaN  us  usp0000fya  2014-11-06T23:21:34.862Z  Oklahoma  earthquake   \n",
       "97      NaN  us  usp0001150  2014-11-06T23:22:02.344Z  Oklahoma  earthquake   \n",
       "101     NaN  us  usp00012xa  2014-11-06T23:22:05.405Z  Oklahoma  earthquake   \n",
       "\n",
       "       status locationSource magSource  \n",
       "4    reviewed             us        us  \n",
       "21   reviewed              m       tul  \n",
       "33   reviewed             us       tul  \n",
       "35   reviewed             us       tul  \n",
       "36   reviewed             us       slm  \n",
       "42   reviewed             us       tul  \n",
       "45   reviewed             us       tul  \n",
       "46   reviewed             us       tul  \n",
       "97   reviewed              d       tul  \n",
       "101  reviewed             us       tul  "
      ]
     },
     "execution_count": 14,
     "metadata": {},
     "output_type": "execute_result"
    }
   ],
   "source": [
    "#reset df columns\n",
    "clean_quakes_df = clean_quakes_df[QuakeCols]\n",
    "clean_quakes_df.head(10)"
   ]
  },
  {
   "cell_type": "code",
   "execution_count": 15,
   "metadata": {},
   "outputs": [
    {
     "data": {
      "text/plain": [
       "7854"
      ]
     },
     "execution_count": 15,
     "metadata": {},
     "output_type": "execute_result"
    }
   ],
   "source": [
    "# Ensure values for lat/long are within proper range\n",
    "lat_earthquakes = clean_quakes_df['latitude']\n",
    "long_earthquakes = clean_quakes_df['longitude']\n",
    "proper_coord_earthquakes = clean_quakes_df.loc[(lat_earthquakes<=90)&\n",
    "                                                 (lat_earthquakes>=-90)&\n",
    "                                                 (long_earthquakes<=180)&\n",
    "                                                 (long_earthquakes>=-180)]\n",
    "len(proper_coord_earthquakes)"
   ]
  },
  {
   "cell_type": "code",
   "execution_count": 16,
   "metadata": {},
   "outputs": [
    {
     "data": {
      "text/plain": [
       "7854"
      ]
     },
     "execution_count": 16,
     "metadata": {},
     "output_type": "execute_result"
    }
   ],
   "source": [
    "len(clean_quakes_df)"
   ]
  },
  {
   "cell_type": "markdown",
   "metadata": {},
   "source": [
    "### Injection Wells DF"
   ]
  },
  {
   "cell_type": "code",
   "execution_count": 17,
   "metadata": {},
   "outputs": [
    {
     "data": {
      "text/plain": [
       "11126"
      ]
     },
     "execution_count": 17,
     "metadata": {},
     "output_type": "execute_result"
    }
   ],
   "source": [
    "len(ok_wells_df)"
   ]
  },
  {
   "cell_type": "code",
   "execution_count": 18,
   "metadata": {},
   "outputs": [
    {
     "data": {
      "text/plain": [
       "11125"
      ]
     },
     "execution_count": 18,
     "metadata": {},
     "output_type": "execute_result"
    }
   ],
   "source": [
    "#drop any completely null rows\n",
    "ok_wells_df= ok_wells_df.dropna(how=\"all\")\n",
    "len(ok_wells_df)"
   ]
  },
  {
   "cell_type": "code",
   "execution_count": 19,
   "metadata": {},
   "outputs": [
    {
     "data": {
      "text/plain": [
       "WellName            1\n",
       "WellNumber          1\n",
       "OrderNumbers        1\n",
       "PSI              1436\n",
       "BBLS             1436\n",
       "Unnamed: 18     11125\n",
       "Unnamed: 19     11125\n",
       "Unnamed: 20     11125\n",
       "dtype: int64"
      ]
     },
     "execution_count": 19,
     "metadata": {},
     "output_type": "execute_result"
    }
   ],
   "source": [
    "#find individual nulls\n",
    "wells_null_columns = ok_wells_df.columns[ok_wells_df.isnull().any()]\n",
    "ok_wells_df[wells_null_columns].isnull().sum()"
   ]
  },
  {
   "cell_type": "code",
   "execution_count": 20,
   "metadata": {},
   "outputs": [
    {
     "data": {
      "text/plain": [
       "WellName           1\n",
       "WellNumber         1\n",
       "OrderNumbers       1\n",
       "PSI             1436\n",
       "BBLS            1436\n",
       "dtype: int64"
      ]
     },
     "execution_count": 20,
     "metadata": {},
     "output_type": "execute_result"
    }
   ],
   "source": [
    "#drop large amount of nulls and extraneous data\n",
    "ok_wells_df = ok_wells_df.drop(columns = [\"QQQQ\", \"Unnamed: 18\", \"Unnamed: 19\", \"Unnamed: 20\"])\n",
    "wells_null_columns = ok_wells_df.columns[ok_wells_df.isnull().any()]\n",
    "ok_wells_df[wells_null_columns].isnull().sum()"
   ]
  },
  {
   "cell_type": "code",
   "execution_count": 21,
   "metadata": {},
   "outputs": [
    {
     "data": {
      "text/plain": [
       "9685"
      ]
     },
     "execution_count": 21,
     "metadata": {},
     "output_type": "execute_result"
    }
   ],
   "source": [
    "#drop other nulls\n",
    "clean_wells_df = ok_wells_df.dropna()\n",
    "len(clean_wells_df)"
   ]
  },
  {
   "cell_type": "code",
   "execution_count": 22,
   "metadata": {},
   "outputs": [
    {
     "name": "stderr",
     "output_type": "stream",
     "text": [
      "C:\\Users\\puppy\\Anaconda3\\envs\\PythonData\\lib\\site-packages\\ipykernel_launcher.py:2: SettingWithCopyWarning: \n",
      "A value is trying to be set on a copy of a slice from a DataFrame.\n",
      "Try using .loc[row_indexer,col_indexer] = value instead\n",
      "\n",
      "See the caveats in the documentation: https://pandas.pydata.org/pandas-docs/stable/user_guide/indexing.html#returning-a-view-versus-a-copy\n",
      "  \n",
      "C:\\Users\\puppy\\Anaconda3\\envs\\PythonData\\lib\\site-packages\\ipykernel_launcher.py:3: SettingWithCopyWarning: \n",
      "A value is trying to be set on a copy of a slice from a DataFrame.\n",
      "Try using .loc[row_indexer,col_indexer] = value instead\n",
      "\n",
      "See the caveats in the documentation: https://pandas.pydata.org/pandas-docs/stable/user_guide/indexing.html#returning-a-view-versus-a-copy\n",
      "  This is separate from the ipykernel package so we can avoid doing imports until\n"
     ]
    },
    {
     "data": {
      "text/plain": [
       "['API#',\n",
       " 'Operator',\n",
       " 'Operator ID',\n",
       " 'WellType',\n",
       " 'WellName',\n",
       " 'WellNumber',\n",
       " 'OrderNumbers',\n",
       " 'Approval Date',\n",
       " 'year',\n",
       " 'County',\n",
       " 'Sec',\n",
       " 'Twp',\n",
       " 'Rng',\n",
       " 'LAT',\n",
       " 'LONG',\n",
       " 'PSI',\n",
       " 'BBLS',\n",
       " 'ZONE']"
      ]
     },
     "execution_count": 22,
     "metadata": {},
     "output_type": "execute_result"
    }
   ],
   "source": [
    "#pull out years\n",
    "clean_wells_df['Approval Date'] = pd.to_datetime(clean_wells_df['Approval Date'])\n",
    "clean_wells_df['year'] = clean_wells_df['Approval Date'].dt.year\n",
    "\n",
    "#move year column next to time\n",
    "\n",
    "#put columns in list\n",
    "WellsCols = clean_wells_df.columns.tolist()\n",
    "#move year to 8th index\n",
    "WellsCols.insert(8, 'year')\n",
    "#remove duplicate year from end of list\n",
    "WellsCols.pop()\n",
    "WellsCols"
   ]
  },
  {
   "cell_type": "code",
   "execution_count": 23,
   "metadata": {},
   "outputs": [
    {
     "data": {
      "text/html": [
       "<div>\n",
       "<style scoped>\n",
       "    .dataframe tbody tr th:only-of-type {\n",
       "        vertical-align: middle;\n",
       "    }\n",
       "\n",
       "    .dataframe tbody tr th {\n",
       "        vertical-align: top;\n",
       "    }\n",
       "\n",
       "    .dataframe thead th {\n",
       "        text-align: right;\n",
       "    }\n",
       "</style>\n",
       "<table border=\"1\" class=\"dataframe\">\n",
       "  <thead>\n",
       "    <tr style=\"text-align: right;\">\n",
       "      <th></th>\n",
       "      <th>API#</th>\n",
       "      <th>Operator</th>\n",
       "      <th>Operator ID</th>\n",
       "      <th>WellType</th>\n",
       "      <th>WellName</th>\n",
       "      <th>WellNumber</th>\n",
       "      <th>OrderNumbers</th>\n",
       "      <th>Approval Date</th>\n",
       "      <th>year</th>\n",
       "      <th>County</th>\n",
       "      <th>Sec</th>\n",
       "      <th>Twp</th>\n",
       "      <th>Rng</th>\n",
       "      <th>LAT</th>\n",
       "      <th>LONG</th>\n",
       "      <th>PSI</th>\n",
       "      <th>BBLS</th>\n",
       "      <th>ZONE</th>\n",
       "    </tr>\n",
       "  </thead>\n",
       "  <tbody>\n",
       "    <tr>\n",
       "      <th>0</th>\n",
       "      <td>3.500300e+09</td>\n",
       "      <td>PHOENIX PETROCORP INC</td>\n",
       "      <td>19499.0</td>\n",
       "      <td>2R</td>\n",
       "      <td>SE EUREKA UNIT-TUCKER #1</td>\n",
       "      <td>21</td>\n",
       "      <td>1.338560e+05</td>\n",
       "      <td>1977-09-06</td>\n",
       "      <td>1977</td>\n",
       "      <td>ALFALFA</td>\n",
       "      <td>13</td>\n",
       "      <td>28N</td>\n",
       "      <td>10W</td>\n",
       "      <td>36.900324</td>\n",
       "      <td>-98.21826</td>\n",
       "      <td>2,500</td>\n",
       "      <td>300</td>\n",
       "      <td>CHEROKEE</td>\n",
       "    </tr>\n",
       "    <tr>\n",
       "      <th>1</th>\n",
       "      <td>3.500300e+09</td>\n",
       "      <td>CHAMPLIN EXPLORATION INC</td>\n",
       "      <td>4030.0</td>\n",
       "      <td>2R</td>\n",
       "      <td>CHRISTENSEN</td>\n",
       "      <td>1</td>\n",
       "      <td>4.702580e+05</td>\n",
       "      <td>2002-11-27</td>\n",
       "      <td>2002</td>\n",
       "      <td>ALFALFA</td>\n",
       "      <td>21</td>\n",
       "      <td>28N</td>\n",
       "      <td>09W</td>\n",
       "      <td>36.896636</td>\n",
       "      <td>-98.17772</td>\n",
       "      <td>2,400</td>\n",
       "      <td>1,000</td>\n",
       "      <td>RED FORK</td>\n",
       "    </tr>\n",
       "    <tr>\n",
       "      <th>2</th>\n",
       "      <td>3.500321e+09</td>\n",
       "      <td>LINN OPERATING INC</td>\n",
       "      <td>22182.0</td>\n",
       "      <td>2R</td>\n",
       "      <td>NE CHEROKEE UNIT</td>\n",
       "      <td>85</td>\n",
       "      <td>3.294260e+05</td>\n",
       "      <td>1988-08-19</td>\n",
       "      <td>1988</td>\n",
       "      <td>ALFALFA</td>\n",
       "      <td>24</td>\n",
       "      <td>27N</td>\n",
       "      <td>11W</td>\n",
       "      <td>36.806113</td>\n",
       "      <td>-98.32584</td>\n",
       "      <td>1,050</td>\n",
       "      <td>1,000</td>\n",
       "      <td>RED FORK</td>\n",
       "    </tr>\n",
       "    <tr>\n",
       "      <th>3</th>\n",
       "      <td>3.500321e+09</td>\n",
       "      <td>SANDRIDGE EXPLORATION &amp; PRODUCTION LLC</td>\n",
       "      <td>22281.0</td>\n",
       "      <td>2R</td>\n",
       "      <td>VELMA</td>\n",
       "      <td>2-19</td>\n",
       "      <td>2.816520e+05</td>\n",
       "      <td>1985-07-11</td>\n",
       "      <td>1985</td>\n",
       "      <td>ALFALFA</td>\n",
       "      <td>19</td>\n",
       "      <td>28N</td>\n",
       "      <td>10W</td>\n",
       "      <td>36.888589</td>\n",
       "      <td>-98.31853</td>\n",
       "      <td>3,152</td>\n",
       "      <td>1,000</td>\n",
       "      <td>RED FORK</td>\n",
       "    </tr>\n",
       "    <tr>\n",
       "      <th>4</th>\n",
       "      <td>3.500321e+09</td>\n",
       "      <td>CHAMPLIN EXPLORATION INC</td>\n",
       "      <td>4030.0</td>\n",
       "      <td>2R</td>\n",
       "      <td>GRAY</td>\n",
       "      <td>1A</td>\n",
       "      <td>4.702570e+05</td>\n",
       "      <td>2002-11-27</td>\n",
       "      <td>2002</td>\n",
       "      <td>ALFALFA</td>\n",
       "      <td>20</td>\n",
       "      <td>28N</td>\n",
       "      <td>09W</td>\n",
       "      <td>36.892128</td>\n",
       "      <td>-98.19462</td>\n",
       "      <td>1,000</td>\n",
       "      <td>2,400</td>\n",
       "      <td>RED FORK</td>\n",
       "    </tr>\n",
       "    <tr>\n",
       "      <th>5</th>\n",
       "      <td>3.500321e+09</td>\n",
       "      <td>PARADIGM PETROLEUM CORPORATION</td>\n",
       "      <td>22867.0</td>\n",
       "      <td>2R</td>\n",
       "      <td>NORTH CARMEN RED FORK UNIT</td>\n",
       "      <td>8</td>\n",
       "      <td>4.053050e+05</td>\n",
       "      <td>1996-09-17</td>\n",
       "      <td>1996</td>\n",
       "      <td>ALFALFA</td>\n",
       "      <td>3</td>\n",
       "      <td>24N</td>\n",
       "      <td>12W</td>\n",
       "      <td>36.591824</td>\n",
       "      <td>-98.46356</td>\n",
       "      <td>750</td>\n",
       "      <td>2,000</td>\n",
       "      <td>RED FORK</td>\n",
       "    </tr>\n",
       "    <tr>\n",
       "      <th>6</th>\n",
       "      <td>3.500321e+09</td>\n",
       "      <td>PRIDE ENERGY COMPANY</td>\n",
       "      <td>19430.0</td>\n",
       "      <td>2D</td>\n",
       "      <td>LESLIE</td>\n",
       "      <td>A-1</td>\n",
       "      <td>1.006450e+09</td>\n",
       "      <td>2010-05-06</td>\n",
       "      <td>2010</td>\n",
       "      <td>ALFALFA</td>\n",
       "      <td>5</td>\n",
       "      <td>25N</td>\n",
       "      <td>12W</td>\n",
       "      <td>36.674104</td>\n",
       "      <td>-98.51565</td>\n",
       "      <td>1,280</td>\n",
       "      <td>2,000</td>\n",
       "      <td>PERMIAN</td>\n",
       "    </tr>\n",
       "    <tr>\n",
       "      <th>7</th>\n",
       "      <td>3.500321e+09</td>\n",
       "      <td>ZEIDERS BROS OIL &amp; GAS CO LLC</td>\n",
       "      <td>22680.0</td>\n",
       "      <td>2D</td>\n",
       "      <td>USF&amp;G FELLERS</td>\n",
       "      <td>1A-36</td>\n",
       "      <td>3.481570e+05</td>\n",
       "      <td>1990-06-25</td>\n",
       "      <td>1990</td>\n",
       "      <td>ALFALFA</td>\n",
       "      <td>36</td>\n",
       "      <td>28N</td>\n",
       "      <td>11W</td>\n",
       "      <td>36.857775</td>\n",
       "      <td>-98.32979</td>\n",
       "      <td>0</td>\n",
       "      <td>1,000</td>\n",
       "      <td>MISSISSIPPI</td>\n",
       "    </tr>\n",
       "    <tr>\n",
       "      <th>8</th>\n",
       "      <td>3.500321e+09</td>\n",
       "      <td>MARJO OPERATING MID-CONTINENT LLC</td>\n",
       "      <td>23610.0</td>\n",
       "      <td>2R</td>\n",
       "      <td>BURCHFIEL</td>\n",
       "      <td>15-3</td>\n",
       "      <td>4.336930e+05</td>\n",
       "      <td>1999-07-14</td>\n",
       "      <td>1999</td>\n",
       "      <td>ALFALFA</td>\n",
       "      <td>15</td>\n",
       "      <td>27N</td>\n",
       "      <td>09W</td>\n",
       "      <td>36.819572</td>\n",
       "      <td>-98.14953</td>\n",
       "      <td>1,500</td>\n",
       "      <td>1,800</td>\n",
       "      <td>MISENER</td>\n",
       "    </tr>\n",
       "    <tr>\n",
       "      <th>9</th>\n",
       "      <td>3.500321e+09</td>\n",
       "      <td>PARADIGM PETROLEUM CORPORATION</td>\n",
       "      <td>22867.0</td>\n",
       "      <td>2R</td>\n",
       "      <td>NORTH CARMEN RED FORK UNIT</td>\n",
       "      <td>1</td>\n",
       "      <td>4.234560e+05</td>\n",
       "      <td>1998-05-27</td>\n",
       "      <td>1998</td>\n",
       "      <td>ALFALFA</td>\n",
       "      <td>34</td>\n",
       "      <td>25N</td>\n",
       "      <td>12W</td>\n",
       "      <td>36.596660</td>\n",
       "      <td>-98.48296</td>\n",
       "      <td>3,500</td>\n",
       "      <td>750</td>\n",
       "      <td>RED FORK (CHEROKEE)</td>\n",
       "    </tr>\n",
       "  </tbody>\n",
       "</table>\n",
       "</div>"
      ],
      "text/plain": [
       "           API#                                Operator  Operator ID WellType  \\\n",
       "0  3.500300e+09                   PHOENIX PETROCORP INC      19499.0       2R   \n",
       "1  3.500300e+09                CHAMPLIN EXPLORATION INC       4030.0       2R   \n",
       "2  3.500321e+09                      LINN OPERATING INC      22182.0       2R   \n",
       "3  3.500321e+09  SANDRIDGE EXPLORATION & PRODUCTION LLC      22281.0       2R   \n",
       "4  3.500321e+09                CHAMPLIN EXPLORATION INC       4030.0       2R   \n",
       "5  3.500321e+09          PARADIGM PETROLEUM CORPORATION      22867.0       2R   \n",
       "6  3.500321e+09                    PRIDE ENERGY COMPANY      19430.0       2D   \n",
       "7  3.500321e+09           ZEIDERS BROS OIL & GAS CO LLC      22680.0       2D   \n",
       "8  3.500321e+09       MARJO OPERATING MID-CONTINENT LLC      23610.0       2R   \n",
       "9  3.500321e+09          PARADIGM PETROLEUM CORPORATION      22867.0       2R   \n",
       "\n",
       "                     WellName WellNumber  OrderNumbers Approval Date  year  \\\n",
       "0    SE EUREKA UNIT-TUCKER #1         21  1.338560e+05    1977-09-06  1977   \n",
       "1                 CHRISTENSEN          1  4.702580e+05    2002-11-27  2002   \n",
       "2            NE CHEROKEE UNIT         85  3.294260e+05    1988-08-19  1988   \n",
       "3                       VELMA       2-19  2.816520e+05    1985-07-11  1985   \n",
       "4                        GRAY         1A  4.702570e+05    2002-11-27  2002   \n",
       "5  NORTH CARMEN RED FORK UNIT          8  4.053050e+05    1996-09-17  1996   \n",
       "6                      LESLIE        A-1  1.006450e+09    2010-05-06  2010   \n",
       "7               USF&G FELLERS      1A-36  3.481570e+05    1990-06-25  1990   \n",
       "8                   BURCHFIEL       15-3  4.336930e+05    1999-07-14  1999   \n",
       "9  NORTH CARMEN RED FORK UNIT          1  4.234560e+05    1998-05-27  1998   \n",
       "\n",
       "    County Sec  Twp  Rng        LAT      LONG    PSI   BBLS  \\\n",
       "0  ALFALFA  13  28N  10W  36.900324 -98.21826  2,500    300   \n",
       "1  ALFALFA  21  28N  09W  36.896636 -98.17772  2,400  1,000   \n",
       "2  ALFALFA  24  27N  11W  36.806113 -98.32584  1,050  1,000   \n",
       "3  ALFALFA  19  28N  10W  36.888589 -98.31853  3,152  1,000   \n",
       "4  ALFALFA  20  28N  09W  36.892128 -98.19462  1,000  2,400   \n",
       "5  ALFALFA   3  24N  12W  36.591824 -98.46356    750  2,000   \n",
       "6  ALFALFA   5  25N  12W  36.674104 -98.51565  1,280  2,000   \n",
       "7  ALFALFA  36  28N  11W  36.857775 -98.32979      0  1,000   \n",
       "8  ALFALFA  15  27N  09W  36.819572 -98.14953  1,500  1,800   \n",
       "9  ALFALFA  34  25N  12W  36.596660 -98.48296  3,500    750   \n",
       "\n",
       "                  ZONE  \n",
       "0             CHEROKEE  \n",
       "1             RED FORK  \n",
       "2             RED FORK  \n",
       "3             RED FORK  \n",
       "4             RED FORK  \n",
       "5             RED FORK  \n",
       "6              PERMIAN  \n",
       "7          MISSISSIPPI  \n",
       "8              MISENER  \n",
       "9  RED FORK (CHEROKEE)  "
      ]
     },
     "execution_count": 23,
     "metadata": {},
     "output_type": "execute_result"
    }
   ],
   "source": [
    "#reset df columns\n",
    "clean_wells_df = clean_wells_df[WellsCols]\n",
    "clean_wells_df.head(10)"
   ]
  },
  {
   "cell_type": "code",
   "execution_count": 24,
   "metadata": {},
   "outputs": [
    {
     "data": {
      "text/plain": [
       "9679"
      ]
     },
     "execution_count": 24,
     "metadata": {},
     "output_type": "execute_result"
    }
   ],
   "source": [
    "#Ensure values for lat/long are within proper range\n",
    "lat_wells = clean_wells_df['LAT']\n",
    "long_wells = clean_wells_df['LONG']\n",
    "\n",
    "proper_coord_wells = clean_wells_df.loc[(lat_wells<=90)&\n",
    "                                     (lat_wells>=-90)&\n",
    "                                     (long_wells<=180)&\n",
    "                                     (long_wells>=-180)]\n",
    "len(proper_coord_wells)"
   ]
  },
  {
   "cell_type": "code",
   "execution_count": 25,
   "metadata": {},
   "outputs": [
    {
     "data": {
      "text/plain": [
       "9685"
      ]
     },
     "execution_count": 25,
     "metadata": {},
     "output_type": "execute_result"
    }
   ],
   "source": [
    "len(clean_wells_df)"
   ]
  },
  {
   "cell_type": "code",
   "execution_count": 26,
   "metadata": {},
   "outputs": [
    {
     "data": {
      "text/plain": [
       "9679"
      ]
     },
     "execution_count": 26,
     "metadata": {},
     "output_type": "execute_result"
    }
   ],
   "source": [
    "clean_wells_df = proper_coord_wells\n",
    "len(clean_wells_df)"
   ]
  },
  {
   "cell_type": "code",
   "execution_count": 27,
   "metadata": {},
   "outputs": [
    {
     "data": {
      "text/plain": [
       "1936"
      ]
     },
     "execution_count": 27,
     "metadata": {},
     "output_type": "execute_result"
    }
   ],
   "source": [
    "clean_wells_df[\"year\"].min()"
   ]
  },
  {
   "cell_type": "code",
   "execution_count": 28,
   "metadata": {},
   "outputs": [
    {
     "data": {
      "text/plain": [
       "1974"
      ]
     },
     "execution_count": 28,
     "metadata": {},
     "output_type": "execute_result"
    }
   ],
   "source": [
    "clean_quakes_df[\"year\"].min()"
   ]
  },
  {
   "cell_type": "code",
   "execution_count": 29,
   "metadata": {},
   "outputs": [
    {
     "data": {
      "text/plain": [
       "8723"
      ]
     },
     "execution_count": 29,
     "metadata": {},
     "output_type": "execute_result"
    }
   ],
   "source": [
    "clean_wells_df = clean_wells_df.loc[clean_wells_df[\"year\"] >= 1974]\n",
    "len(clean_wells_df)"
   ]
  },
  {
   "cell_type": "code",
   "execution_count": 30,
   "metadata": {},
   "outputs": [
    {
     "data": {
      "text/plain": [
       "2016"
      ]
     },
     "execution_count": 30,
     "metadata": {},
     "output_type": "execute_result"
    }
   ],
   "source": [
    "clean_quakes_df[\"year\"].max()"
   ]
  },
  {
   "cell_type": "code",
   "execution_count": 31,
   "metadata": {},
   "outputs": [
    {
     "data": {
      "text/plain": [
       "2017"
      ]
     },
     "execution_count": 31,
     "metadata": {},
     "output_type": "execute_result"
    }
   ],
   "source": [
    "clean_wells_df[\"year\"].max()"
   ]
  },
  {
   "cell_type": "code",
   "execution_count": 32,
   "metadata": {},
   "outputs": [
    {
     "data": {
      "text/plain": [
       "8529"
      ]
     },
     "execution_count": 32,
     "metadata": {},
     "output_type": "execute_result"
    }
   ],
   "source": [
    "clean_wells_df = clean_wells_df.loc[clean_wells_df[\"year\"] <= 2016]\n",
    "len(clean_wells_df)"
   ]
  },
  {
   "cell_type": "code",
   "execution_count": 33,
   "metadata": {},
   "outputs": [
    {
     "data": {
      "text/plain": [
       "API#                    float64\n",
       "Operator                 object\n",
       "Operator ID             float64\n",
       "WellType                 object\n",
       "WellName                 object\n",
       "WellNumber               object\n",
       "OrderNumbers            float64\n",
       "Approval Date    datetime64[ns]\n",
       "year                      int64\n",
       "County                   object\n",
       "Sec                      object\n",
       "Twp                      object\n",
       "Rng                      object\n",
       "LAT                     float64\n",
       "LONG                    float64\n",
       "PSI                      object\n",
       "BBLS                     object\n",
       "ZONE                     object\n",
       "dtype: object"
      ]
     },
     "execution_count": 33,
     "metadata": {},
     "output_type": "execute_result"
    }
   ],
   "source": [
    "#check datatypes for plotting\n",
    "clean_wells_df.dtypes"
   ]
  },
  {
   "cell_type": "code",
   "execution_count": 34,
   "metadata": {},
   "outputs": [
    {
     "data": {
      "text/plain": [
       "array(['2500', '2400', '1050', '3152', '1000', '750', '1280', '0', '1500',\n",
       "       '3500', '500', '1250', '2000', '3000', '2800', '2264', '2320',\n",
       "       '2375', '2250', '2450', '5915', '700', '1450', '1200', '1400',\n",
       "       '300', '50', '914', '1350', '1600', '902', '100', '1700', '325',\n",
       "       '250', '850', '800', '200', '1900', '1800', '2150', '2300', '1912',\n",
       "       '1688', '2100', '1785', '2475', '1300', '900', '435', '2200',\n",
       "       '1675', '4900', '4500', '3600', '1140', '5500', '5000', '4000',\n",
       "       '801', '980', '1100', '982', '1850', '650', '1026', '950', '1076',\n",
       "       '1008', '600', '1014', '1816', '1740', '1750', '825', '2342',\n",
       "       '2570', '400', '1115', '1087', '1235', '1290', '1305', '1210',\n",
       "       '1862', '3150', '2245', '1650', '886', '722', '1145', '1340',\n",
       "       '796', '1080', '1109', '1195', '1085', '1550', '443', '2750',\n",
       "       '2280', '2947', '2517', '550', '1075', '1135', '2504', '1775',\n",
       "       '545', '1150', '450', '150', '2850', '2700', '1375', '540', '2765',\n",
       "       '630', '1720', '1730', '515', '160', '1060', '1840', '806', '670',\n",
       "       '622', '430', '790', '380', '496', '280', '610', '717', '502',\n",
       "       '506', '350', '560', '431', '720', '2900', '820', '2514', '690',\n",
       "       '2909', '555', '491', '890', '3019', '2180', '182', '768', '534',\n",
       "       '1176', '724', '795', '579', '1238', '990', '1644', '625', '461',\n",
       "       '816', '1031', '1330', '199', '427', '184', '1380', '983', '86',\n",
       "       '960', '80', '525', '485', '420', '580', '2295', '2305', '2293',\n",
       "       '2294', '2313', '2950', '4080', '415', '170', '30', '445', '470',\n",
       "       '959', '640', '1890', '546', '1430', '1420', '1426', '1425', '870',\n",
       "       '1175', '1445', '1410', '1405', '125', '1265', '1655', '25', '940',\n",
       "       '359', '784', '225', '730', '1407', '1433', '1435', '1412', '1825',\n",
       "       '1925', '480', '2085', '3800', '2025', '1931', '1975', '1860',\n",
       "       '4600', '2050', '2020', '2030', '2710', '3200', '3450', '3300',\n",
       "       '2970', '3295', '2600', '3555', '2880', '3230', '3330', '3275',\n",
       "       '3046', '3721', '725', '765', '675', '680', '972', '597', '760',\n",
       "       '770', '855', '2275', '1560', '1470', '927', '2585', '3100',\n",
       "       '1172', '1950', '946', '1130', '1230', '1667', '4700', '3710',\n",
       "       '3737', '915', '2520', '2010', '2175', '4735', '4782', '4653',\n",
       "       '4670', '366', '339', '224B/475G', '226B/479G', '219B/464G',\n",
       "       '222B/470G', '235B/498G', '197B/416G', '225B/476G', '225B/475G',\n",
       "       '223B/472G', '204B/432G', '223B/471G', '228B/483G', '229B/484G',\n",
       "       '229B/486G', '236B/499G', '230B/487G', '202B/428G', '226B/478G',\n",
       "       '227B/481G', '218B/461G', '227B/480G', '3089', '3037', '2662',\n",
       "       '3083', '2490', '2882', '2972', '2994', '3220', '338', '1343',\n",
       "       '315', '590', '1337', '395', '330', '135', '365', '425', '3582',\n",
       "       '2380', '275', '90', '70', '60', '775', '1040', '602', '979',\n",
       "       '165', '210', '40', '75', '475', '2550', '2579', '2560', '1870',\n",
       "       '2465', '2130', '2060', '1960', '2350', '1690', '1660', '780',\n",
       "       '375', '1205', '1233', '1355', '3190', '3269', '3435', '3213',\n",
       "       '3260', '1055', '575', '549', '457', '1723', '1930', '1320',\n",
       "       '3381', '185', '941', '1156', '1732', '840', '1490', '15', '660',\n",
       "       '299', '2651', '2620', '2670', '2815', '2847', '2645', '2869',\n",
       "       '2899', '2720', '2630', '220', '212', '360', '345', '416', '175',\n",
       "       '130', '290', '187', '246', '320', '620', '595', '615', '323',\n",
       "       '110', '413', '1480', '1853', '1990', '1090', '877', '1789',\n",
       "       '1637', '1957', '1630', '1760', '1545', '605', '2953', '2536',\n",
       "       '2506', '2379', '2565', '2729', '2482', '2697', '3035', '4050',\n",
       "       '705', '2905', '1998', '1818', '1886', '1830', '1845', '1887',\n",
       "       '1904', '1857', '1835', '1858', '1812', '1702', '1940', '2006',\n",
       "       '1753', '1875', '1955', '1735', '1837', '1815', '1867', '1881',\n",
       "       '1842', '1676', '1695', '1770', '1765', '1838', '1715', '1745',\n",
       "       '1710', '1787', '1725', '1680', '1809', '1824', '2732', '3677',\n",
       "       '1733', '1855', '815', '3041', '1932', '1628', '1878', '1829',\n",
       "       '1915', '1945', '1705', '1847', '270', '1943', '1763', '1821',\n",
       "       '2082', '1888', '1910', '1808', '1865', '1962', '1926', '1933',\n",
       "       '1903', '1025', '1885', '1510', '140', '157', '297', '158', '207',\n",
       "       '562', '1190', '1260', '35', '66', '98', '706', '2575', '2681',\n",
       "       '2675', '2730', '1382', '3090', '1220', '202', '232', '1191',\n",
       "       '1071', '1217', '1232', '1225', '180', '2653', '2640', '2770',\n",
       "       '2825', '2325', '2340', '2625', '2749', '1275', '310', '263',\n",
       "       '223', '245', '145', '3400', '265', '143', '235', '215', '164',\n",
       "       '120', '570', '238', '440', '490', '928', '340', '827', '772',\n",
       "       '1062', '354', '1321', '462', '466', '385', '1214', '1198', '434',\n",
       "       '474', '432', '885', '1414', '190', '370', '390', '460', '452',\n",
       "       '429', '451', '424', '422', '412', '193', '441', '465', '499',\n",
       "       '387', '374', '361', '322', '356', '341', '467', '455', '332',\n",
       "       '379', '404', '407', '468', '458', '1774', '1613', '1806', '2076',\n",
       "       '2220', '1703', '1632', '2040', '1782', '405', '410', '419', '408',\n",
       "       '505', '589', '495', '486', '472', '493', '484', '489', '494',\n",
       "       '497', '438', '530', '2290', '1777', '739', '2184', '523', '643',\n",
       "       '482', '535', '1880', '19900', '1792', '2940', '1625'],\n",
       "      dtype=object)"
      ]
     },
     "execution_count": 34,
     "metadata": {},
     "output_type": "execute_result"
    }
   ],
   "source": [
    "#get rid of commas in strings\n",
    "clean_wells_df[\"PSI\"] = clean_wells_df[\"PSI\"].str.replace(',', '')\n",
    "clean_wells_df[\"BBLS\"] = clean_wells_df[\"BBLS\"].str.replace(',', '')\n",
    "clean_wells_df[\"PSI\"].unique()"
   ]
  },
  {
   "cell_type": "code",
   "execution_count": 35,
   "metadata": {},
   "outputs": [
    {
     "data": {
      "text/plain": [
       "array(['300', '1000', '2400', '2000', '1800', '750', '1200', '4500',\n",
       "       '1500', '20000', '2500', '3000', '100', '50000', '19900', '60000',\n",
       "       '19500', '100000', '80000', '15000', '65000', '45000', '25000',\n",
       "       '40000', '14000', '10000', '500', '19990', '6000', '14400', '690',\n",
       "       '200', '8400', '1300', '2200', '3200', '12000', '5000', '80',\n",
       "       '1400', '2100', '50', '7000', '30', '40', '4000', '900', '8000',\n",
       "       '4900', '400', '4999', '35000', '600', '650', '800', '7200',\n",
       "       '30000', '7500', '13000', '4600', '2700', '0', '3600', '1700',\n",
       "       '20', '150', '350', '2600', '550', '250', '3500', '1150', '2550',\n",
       "       '1900', '1350', '850', '1100', '130', '325', '327', '675', '995',\n",
       "       '680', '1600', '700', '2800', '26800', '420', '950', '75', '375',\n",
       "       '1170', '1380', '1650', '5200', '2850', '1445', '1560', '1550',\n",
       "       '2250', '1080', '980', '5800', '784', '70', '120', '22000', '610',\n",
       "       '3670', '1750', '1075', '2900', '4800', '4200', '450', '972',\n",
       "       '1250', '2750', '876', '591', '360', '604', '144', '184', '480',\n",
       "       '3800', '320', '999', '990', '2160', '620', '2602', '24000',\n",
       "       '18750', '399', '540', '90', '470', '223', '5', '25', '1440',\n",
       "       '110', '1450', '575', '125', '720', '29', '275', '240', '220',\n",
       "       '60', '140', '16000', '12500', '3250', '99000', '175', '4950',\n",
       "       '17000', '5500', '180', '875', '23000', '50400', '19200', '36000',\n",
       "       '99999', '18000', '16800', '19999', '15500', '8500', '75080', '10',\n",
       "       '2300', '85', '19000', '1515', '280', '1050', '75000', '6500',\n",
       "       '3400', '190', '2080', '9000', '3700', '3840', '23288', '17500',\n",
       "       '160', '15', '45', '4990', '11000', '3300', '230', '890', '1903',\n",
       "       '1904', '1430', '14500', '65', '9500', '4750', '975', '6', '225',\n",
       "       '7400', '73', '1850', '35', '1188', '3100', '70000'], dtype=object)"
      ]
     },
     "execution_count": 35,
     "metadata": {},
     "output_type": "execute_result"
    }
   ],
   "source": [
    "clean_wells_df[\"BBLS\"].unique()"
   ]
  },
  {
   "cell_type": "code",
   "execution_count": 36,
   "metadata": {},
   "outputs": [
    {
     "data": {
      "text/plain": [
       "array(['2500', '2400', '1050', '3152', '1000', '750', '1280', '0', '1500',\n",
       "       '3500', '500', '1250', '2000', '3000', '2800', '2264', '2320',\n",
       "       '2375', '2250', '2450', '5915', '700', '1450', '1200', '1400',\n",
       "       '300', '50', '914', '1350', '1600', '902', '100', '1700', '325',\n",
       "       '250', '850', '800', '200', '1900', '1800', '2150', '2300', '1912',\n",
       "       '1688', '2100', '1785', '2475', '1300', '900', '435', '2200',\n",
       "       '1675', '4900', '4500', '3600', '1140', '5500', '5000', '4000',\n",
       "       '801', '980', '1100', '982', '1850', '650', '1026', '950', '1076',\n",
       "       '1008', '600', '1014', '1816', '1740', '1750', '825', '2342',\n",
       "       '2570', '400', '1115', '1087', '1235', '1290', '1305', '1210',\n",
       "       '1862', '3150', '2245', '1650', '886', '722', '1145', '1340',\n",
       "       '796', '1080', '1109', '1195', '1085', '1550', '443', '2750',\n",
       "       '2280', '2947', '2517', '550', '1075', '1135', '2504', '1775',\n",
       "       '545', '1150', '450', '150', '2850', '2700', '1375', '540', '2765',\n",
       "       '630', '1720', '1730', '515', '160', '1060', '1840', '806', '670',\n",
       "       '622', '430', '790', '380', '496', '280', '610', '717', '502',\n",
       "       '506', '350', '560', '431', '720', '2900', '820', '2514', '690',\n",
       "       '2909', '555', '491', '890', '3019', '2180', '182', '768', '534',\n",
       "       '1176', '724', '795', '579', '1238', '990', '1644', '625', '461',\n",
       "       '816', '1031', '1330', '199', '427', '184', '1380', '983', '86',\n",
       "       '960', '80', '525', '485', '420', '580', '2295', '2305', '2293',\n",
       "       '2294', '2313', '2950', '4080', '415', '170', '30', '445', '470',\n",
       "       '959', '640', '1890', '546', '1430', '1420', '1426', '1425', '870',\n",
       "       '1175', '1445', '1410', '1405', '125', '1265', '1655', '25', '940',\n",
       "       '359', '784', '225', '730', '1407', '1433', '1435', '1412', '1825',\n",
       "       '1925', '480', '2085', '3800', '2025', '1931', '1975', '1860',\n",
       "       '4600', '2050', '2020', '2030', '2710', '3200', '3450', '3300',\n",
       "       '2970', '3295', '2600', '3555', '2880', '3230', '3330', '3275',\n",
       "       '3046', '3721', '725', '765', '675', '680', '972', '597', '760',\n",
       "       '770', '855', '2275', '1560', '1470', '927', '2585', '3100',\n",
       "       '1172', '1950', '946', '1130', '1230', '1667', '4700', '3710',\n",
       "       '3737', '915', '2520', '2010', '2175', '4735', '4782', '4653',\n",
       "       '4670', '366', '339', '3089', '3037', '2662', '3083', '2490',\n",
       "       '2882', '2972', '2994', '3220', '338', '1343', '315', '590',\n",
       "       '1337', '395', '330', '135', '365', '425', '3582', '2380', '275',\n",
       "       '90', '70', '60', '775', '1040', '602', '979', '165', '210', '40',\n",
       "       '75', '475', '2550', '2579', '2560', '1870', '2465', '2130',\n",
       "       '2060', '1960', '2350', '1690', '1660', '780', '375', '1205',\n",
       "       '1233', '1355', '3190', '3269', '3435', '3213', '3260', '1055',\n",
       "       '575', '549', '457', '1723', '1930', '1320', '3381', '185', '941',\n",
       "       '1156', '1732', '840', '1490', '15', '660', '299', '2651', '2620',\n",
       "       '2670', '2815', '2847', '2645', '2869', '2899', '2720', '2630',\n",
       "       '220', '212', '360', '345', '416', '175', '130', '290', '187',\n",
       "       '246', '320', '620', '595', '615', '323', '110', '413', '1480',\n",
       "       '1853', '1990', '1090', '877', '1789', '1637', '1957', '1630',\n",
       "       '1760', '1545', '605', '2953', '2536', '2506', '2379', '2565',\n",
       "       '2729', '2482', '2697', '3035', '4050', '705', '2905', '1998',\n",
       "       '1818', '1886', '1830', '1845', '1887', '1904', '1857', '1835',\n",
       "       '1858', '1812', '1702', '1940', '2006', '1753', '1875', '1955',\n",
       "       '1735', '1837', '1815', '1867', '1881', '1842', '1676', '1695',\n",
       "       '1770', '1765', '1838', '1715', '1745', '1710', '1787', '1725',\n",
       "       '1680', '1809', '1824', '2732', '3677', '1733', '1855', '815',\n",
       "       '3041', '1932', '1628', '1878', '1829', '1915', '1945', '1705',\n",
       "       '1847', '270', '1943', '1763', '1821', '2082', '1888', '1910',\n",
       "       '1808', '1865', '1962', '1926', '1933', '1903', '1025', '1885',\n",
       "       '1510', '140', '157', '297', '158', '207', '562', '1190', '1260',\n",
       "       '35', '66', '98', '706', '2575', '2681', '2675', '2730', '1382',\n",
       "       '3090', '1220', '202', '232', '1191', '1071', '1217', '1232',\n",
       "       '1225', '180', '2653', '2640', '2770', '2825', '2325', '2340',\n",
       "       '2625', '2749', '1275', '310', '263', '223', '245', '145', '3400',\n",
       "       '265', '143', '235', '215', '164', '120', '570', '238', '440',\n",
       "       '490', '928', '340', '827', '772', '1062', '354', '1321', '462',\n",
       "       '466', '385', '1214', '1198', '434', '474', '432', '885', '1414',\n",
       "       '190', '370', '390', '460', '452', '429', '451', '424', '422',\n",
       "       '412', '193', '441', '465', '499', '387', '374', '361', '322',\n",
       "       '356', '341', '467', '455', '332', '379', '404', '407', '468',\n",
       "       '458', '1774', '1613', '1806', '2076', '2220', '1703', '1632',\n",
       "       '2040', '1782', '405', '410', '419', '408', '505', '589', '495',\n",
       "       '486', '472', '493', '484', '489', '494', '497', '438', '530',\n",
       "       '2290', '1777', '739', '2184', '523', '643', '482', '535', '1880',\n",
       "       '19900', '1792', '2940', '1625'], dtype=object)"
      ]
     },
     "execution_count": 36,
     "metadata": {},
     "output_type": "execute_result"
    }
   ],
   "source": [
    "#drop bad data\n",
    "clean_wells_df = clean_wells_df[~clean_wells_df.PSI.str.contains(\"/\")]\n",
    "clean_wells_df = clean_wells_df[~clean_wells_df.PSI.str.contains(\"V\")]\n",
    "clean_wells_df = clean_wells_df[~clean_wells_df.BBLS.str.contains(\"/\")]\n",
    "clean_wells_df = clean_wells_df[~clean_wells_df.BBLS.str.contains(\"V\")]\n",
    "clean_wells_df[\"PSI\"].unique()"
   ]
  },
  {
   "cell_type": "code",
   "execution_count": 37,
   "metadata": {},
   "outputs": [
    {
     "data": {
      "text/plain": [
       "array(['300', '1000', '2400', '2000', '1800', '750', '1200', '4500',\n",
       "       '1500', '20000', '2500', '3000', '100', '50000', '19900', '60000',\n",
       "       '19500', '100000', '80000', '15000', '65000', '45000', '25000',\n",
       "       '40000', '14000', '10000', '500', '19990', '6000', '14400', '690',\n",
       "       '200', '8400', '1300', '2200', '3200', '12000', '5000', '80',\n",
       "       '1400', '2100', '50', '7000', '30', '40', '4000', '900', '8000',\n",
       "       '4900', '400', '4999', '35000', '600', '650', '800', '7200',\n",
       "       '30000', '7500', '13000', '4600', '2700', '0', '3600', '1700',\n",
       "       '20', '150', '350', '2600', '550', '250', '3500', '1150', '2550',\n",
       "       '1900', '1350', '850', '1100', '130', '325', '327', '675', '995',\n",
       "       '680', '1600', '700', '2800', '26800', '420', '950', '75', '375',\n",
       "       '1170', '1380', '1650', '5200', '2850', '1445', '1560', '1550',\n",
       "       '2250', '1080', '980', '5800', '784', '70', '120', '22000', '610',\n",
       "       '3670', '1750', '1075', '2900', '4800', '4200', '450', '972',\n",
       "       '1250', '2750', '876', '591', '360', '604', '144', '184', '480',\n",
       "       '3800', '320', '999', '990', '2160', '620', '2602', '24000',\n",
       "       '18750', '399', '540', '90', '470', '223', '5', '25', '1440',\n",
       "       '110', '1450', '575', '125', '720', '29', '275', '240', '220',\n",
       "       '60', '140', '16000', '12500', '3250', '99000', '175', '4950',\n",
       "       '17000', '5500', '180', '875', '23000', '50400', '19200', '99999',\n",
       "       '18000', '16800', '19999', '15500', '8500', '75080', '10', '2300',\n",
       "       '85', '19000', '1515', '280', '1050', '75000', '6500', '3400',\n",
       "       '190', '2080', '9000', '3700', '3840', '23288', '17500', '160',\n",
       "       '15', '45', '4990', '11000', '3300', '230', '890', '1903', '1904',\n",
       "       '1430', '14500', '65', '9500', '4750', '975', '6', '225', '7400',\n",
       "       '73', '1850', '35', '1188', '3100', '70000'], dtype=object)"
      ]
     },
     "execution_count": 37,
     "metadata": {},
     "output_type": "execute_result"
    }
   ],
   "source": [
    "clean_wells_df[\"BBLS\"].unique()"
   ]
  },
  {
   "cell_type": "code",
   "execution_count": 38,
   "metadata": {},
   "outputs": [
    {
     "data": {
      "text/plain": [
       "API#                    float64\n",
       "Operator                 object\n",
       "Operator ID             float64\n",
       "WellType                 object\n",
       "WellName                 object\n",
       "WellNumber               object\n",
       "OrderNumbers            float64\n",
       "Approval Date    datetime64[ns]\n",
       "year                      int64\n",
       "County                   object\n",
       "Sec                      object\n",
       "Twp                      object\n",
       "Rng                      object\n",
       "LAT                     float64\n",
       "LONG                    float64\n",
       "PSI                       int32\n",
       "BBLS                      int32\n",
       "ZONE                     object\n",
       "dtype: object"
      ]
     },
     "execution_count": 38,
     "metadata": {},
     "output_type": "execute_result"
    }
   ],
   "source": [
    "#convert to int\n",
    "clean_wells_df[[\"PSI\", \"BBLS\"]] = clean_wells_df[[\"PSI\", \"BBLS\"]].astype(int)\n",
    "#confirm type\n",
    "clean_wells_df.dtypes"
   ]
  },
  {
   "cell_type": "markdown",
   "metadata": {},
   "source": [
    "## EXPLORATORY PLOTS"
   ]
  },
  {
   "cell_type": "markdown",
   "metadata": {},
   "source": [
    "### Create a Map of Earthquakes and Well locations"
   ]
  },
  {
   "cell_type": "code",
   "execution_count": 39,
   "metadata": {},
   "outputs": [
    {
     "data": {
      "image/png": "[encoded data removed]",
      "text/plain": [
       "<Figure size 720x720 with 1 Axes>"
      ]
     },
     "metadata": {
      "needs_background": "light"
     },
     "output_type": "display_data"
    }
   ],
   "source": [
    "#plot lat/longs of earthquakes\n",
    "quakes_x = clean_quakes_df[\"latitude\"]\n",
    "quakes_y = clean_quakes_df[\"longitude\"]\n",
    "\n",
    "#plot lat/longs of wells\n",
    "wells_x = clean_wells_df[\"LAT\"]\n",
    "wells_y = clean_wells_df[\"LONG\"]\n",
    "\n",
    "#build plot\n",
    "fig, ax = plt.subplots(figsize = (10,10))\n",
    "ax.scatter(wells_x, wells_y, c='b', label='Wells')\n",
    "ax.scatter(quakes_x, quakes_y, c='r', label='Earthquakes')\n",
    "leg = ax.legend(fontsize=\"x-large\");\n",
    "\n",
    "\n",
    "#set lims to min and max of longer DF\n",
    "plt.xlim(min(quakes_x),max(quakes_x))\n",
    "plt.ylim(min(quakes_y),max(quakes_y))\n",
    "\n",
    "#set more specific ticks for readability\n",
    "yticks = np.arange((-102.5),(-91.5), .25)\n",
    "xticks = np.arange(33.75, 37.25, .25)\n",
    "plt.yticks(yticks)\n",
    "plt.xticks(xticks)\n",
    "\n",
    "#display plot with grid lines & labels\n",
    "plt.grid()\n",
    "plt.title(\"Well and Earthquake Locations in Oklahoma\")\n",
    "plt.xlabel(\"Latitude\")\n",
    "plt.ylabel(\"Longitude\")\n",
    "plt.savefig(\"PlotImages/WellQuakesLocationScatter.png\",bbox_inches=\"tight\")"
   ]
  },
  {
   "cell_type": "markdown",
   "metadata": {},
   "source": [
    "### Plot Number of Wells Drilled Over Time and Number of Earthquakes Over Time (in years)"
   ]
  },
  {
   "cell_type": "code",
   "execution_count": 40,
   "metadata": {},
   "outputs": [
    {
     "data": {
      "image/png": "[encoded data removed]",
      "text/plain": [
       "<Figure size 576x432 with 1 Axes>"
      ]
     },
     "metadata": {
      "needs_background": "light"
     },
     "output_type": "display_data"
    }
   ],
   "source": [
    "#get a count of quakes by year\n",
    "yearly_quakes = pd.DataFrame(clean_quakes_df.groupby([\"year\"]).count())\n",
    "\n",
    "#set year ticks\n",
    "xticks = np.arange(1974, 2018, 2)\n",
    "xlim = (1973, 2017)\n",
    "\n",
    "YearlyQuakesPlot = yearly_quakes[\"time\"].plot.line(title = \"Number of Earthquakes by Year\", rot = 45, figsize = (8,6))\n",
    "YearlyQuakesPlot.set_xlabel(\"Year\")\n",
    "YearlyQuakesPlot.set_xlim(xlim)\n",
    "YearlyQuakesPlot.set_xticks(xticks)\n",
    "YearlyQuakesPlot.set_ylabel(\"# of Earthquakes\")\n",
    "#save image\n",
    "fig = YearlyQuakesPlot.get_figure()\n",
    "fig.savefig('PlotImages/QuakesbyYear.PNG')\n"
   ]
  },
  {
   "cell_type": "code",
   "execution_count": 41,
   "metadata": {},
   "outputs": [
    {
     "data": {
      "image/png": "[encoded data removed]",
      "text/plain": [
       "<Figure size 432x288 with 1 Axes>"
      ]
     },
     "metadata": {
      "needs_background": "light"
     },
     "output_type": "display_data"
    },
    {
     "data": {
      "text/plain": [
       "<Figure size 720x432 with 0 Axes>"
      ]
     },
     "metadata": {},
     "output_type": "display_data"
    }
   ],
   "source": [
    "#get a count of wells per year\n",
    "WellsGroupbyYear = clean_wells_df.groupby([\"year\"])\n",
    "WellCounts = WellsGroupbyYear[\"WellName\"].count()\n",
    "\n",
    "plt.plot(WellCounts)\n",
    "plt.title(\"Number of New Wells by Year\")\n",
    "plt.xlabel(\"Year\")\n",
    "plt.xticks(xticks, rotation = 45)\n",
    "plt.xlim(xlim)\n",
    "plt.ylabel(\"Number of Wells\")\n",
    "plt.figure(figsize=(10,6))\n",
    "#save image\n",
    "plt.savefig(\"PlotImages/NewWellsbyYear.png\",bbox_inches=\"tight\")\n",
    "#display\n",
    "plt.show()"
   ]
  },
  {
   "cell_type": "code",
   "execution_count": 42,
   "metadata": {
    "scrolled": true
   },
   "outputs": [
    {
     "data": {
      "image/png": "[encoded data removed]",
      "text/plain": [
       "<Figure size 432x288 with 1 Axes>"
      ]
     },
     "metadata": {
      "needs_background": "light"
     },
     "output_type": "display_data"
    },
    {
     "data": {
      "text/plain": [
       "<Figure size 720x432 with 0 Axes>"
      ]
     },
     "metadata": {},
     "output_type": "display_data"
    }
   ],
   "source": [
    "#Determine average magnitude of earthquake for each year in Oklahoma\n",
    "earthquake_mag_year_df = clean_quakes_df.groupby([\"year\"])[\"mag\"].mean()\n",
    "\n",
    "#Determine unique year values for earthquakes occurring in Oklahoma \n",
    "earthquake_mag_year_val_df = clean_quakes_df['year'].unique()\n",
    "\n",
    "#Define x and y values for line graph\n",
    "x_axis = earthquake_mag_year_val_df\n",
    "y_axis = earthquake_mag_year_df\n",
    "\n",
    "#Create line graph\n",
    "plt.plot(x_axis, y_axis)\n",
    "plt.title(\"Average Earthquake Magnitude in Oklahoma by Year\")\n",
    "plt.xlabel(\"Year\")\n",
    "plt.xticks(xticks, rotation = 45)\n",
    "plt.xlim(xlim)\n",
    "plt.ylabel(\"Average Earthquake Magnitude\")\n",
    "plt.figure(figsize=(10,6))\n",
    "#save image\n",
    "plt.savefig(\"PlotImages/AvgQuakeMagbyYear.png\",bbox_inches=\"tight\")"
   ]
  },
  {
   "cell_type": "markdown",
   "metadata": {},
   "source": [
    "### Do the Average Daily PSI Rates Have More Earthquakes Around Them?"
   ]
  },
  {
   "cell_type": "code",
   "execution_count": 43,
   "metadata": {},
   "outputs": [
    {
     "data": {
      "image/png": "[encoded data removed]",
      "text/plain": [
       "<Figure size 432x288 with 1 Axes>"
      ]
     },
     "metadata": {
      "needs_background": "light"
     },
     "output_type": "display_data"
    },
    {
     "data": {
      "text/plain": [
       "<Figure size 720x432 with 0 Axes>"
      ]
     },
     "metadata": {},
     "output_type": "display_data"
    }
   ],
   "source": [
    "#get PSI totals by year\n",
    "YearlyPsiTotal = WellsGroupbyYear[\"PSI\"].sum()\n",
    "#plot\n",
    "plt.plot(YearlyPsiTotal)\n",
    "plt.title(\"Total Wellhead PSI by Year\")\n",
    "plt.xlabel(\"Year\")\n",
    "plt.xticks(xticks, rotation = 45)\n",
    "plt.xlim(1973,2017)\n",
    "plt.ylabel(\"Total Wellhead PSI\")\n",
    "plt.figure(figsize=(10,6))\n",
    "#save image\n",
    "plt.savefig(\"PlotImages/PSITotalbyYear.png\",bbox_inches=\"tight\")"
   ]
  },
  {
   "cell_type": "code",
   "execution_count": 44,
   "metadata": {},
   "outputs": [
    {
     "data": {
      "image/png": "[encoded data removed]",
      "text/plain": [
       "<Figure size 432x288 with 1 Axes>"
      ]
     },
     "metadata": {
      "needs_background": "light"
     },
     "output_type": "display_data"
    },
    {
     "data": {
      "text/plain": [
       "<Figure size 720x432 with 0 Axes>"
      ]
     },
     "metadata": {},
     "output_type": "display_data"
    }
   ],
   "source": [
    "#get average PSI\n",
    "YearlyPsiAvg = WellsGroupbyYear[\"PSI\"].mean()\n",
    "#plot\n",
    "plt.plot(YearlyPsiAvg)\n",
    "plt.title(\"Average Wellhead PSI by Year\")\n",
    "plt.xlabel(\"Year\")\n",
    "plt.xticks(xticks, rotation = 45)\n",
    "plt.xlim(xlim)\n",
    "plt.ylabel(\"Wellhead PSI\")\n",
    "plt.figure(figsize=(10,6))\n",
    "#save image\n",
    "plt.savefig(\"PlotImages/PSIAveragebyYear.png\",bbox_inches=\"tight\")"
   ]
  },
  {
   "cell_type": "code",
   "execution_count": 45,
   "metadata": {},
   "outputs": [
    {
     "data": {
      "image/png": "[encoded data removed]",
      "text/plain": [
       "<Figure size 432x288 with 2 Axes>"
      ]
     },
     "metadata": {
      "needs_background": "light"
     },
     "output_type": "display_data"
    }
   ],
   "source": [
    "fig, ax1 = plt.subplots()\n",
    "\n",
    "color = 'tab:red'\n",
    "ax1.set_xlabel('Years')\n",
    "ax1.set_ylabel('# of Earthquakes', color=color)\n",
    "ax1.plot(yearly_quakes[\"time\"], color=color)\n",
    "ax1.tick_params(axis='y', labelcolor=color)\n",
    "\n",
    "ax2 = ax1.twinx()  # instantiate a second axes that shares the same x-axis\n",
    "\n",
    "color = 'tab:blue'\n",
    "ax2.set_ylabel('Total Wellhead PSI', color=color)  # we already handled the x-label with ax1\n",
    "ax2.plot(YearlyPsiTotal, color=color)\n",
    "ax2.tick_params(axis='y', labelcolor=color)\n",
    "plt.title(\"Number of Earthquakes vs. Total Wellhead PSI per Year\")\n",
    "#save image\n",
    "plt.savefig(\"PlotImages/QuakesVsTotalPSI.png\",bbox_inches=\"tight\")\n"
   ]
  },
  {
   "cell_type": "code",
   "execution_count": 46,
   "metadata": {},
   "outputs": [
    {
     "data": {
      "image/png": "[encoded data removed]",
      "text/plain": [
       "<Figure size 432x288 with 2 Axes>"
      ]
     },
     "metadata": {
      "needs_background": "light"
     },
     "output_type": "display_data"
    }
   ],
   "source": [
    "fig, ax1 = plt.subplots()\n",
    "\n",
    "color = 'tab:red'\n",
    "ax1.set_xlabel('Years')\n",
    "ax1.set_ylabel('# of Earthquakes', color=color)\n",
    "ax1.plot(yearly_quakes[\"time\"], color=color)\n",
    "ax1.tick_params(axis='y', labelcolor=color)\n",
    "\n",
    "ax2 = ax1.twinx()  # instantiate a second axes that shares the same x-axis\n",
    "\n",
    "color = 'tab:blue'\n",
    "ax2.set_ylabel('Average Wellhead PSI', color=color)  # we already handled the x-label with ax1\n",
    "ax2.plot(YearlyPsiAvg, color=color)\n",
    "ax2.tick_params(axis='y', labelcolor=color)\n",
    "plt.title(\"Number of Earthquakes vs. Average Wellhead PSI per Year\")\n",
    "#save image\n",
    "plt.savefig(\"PlotImages/QuakesVsAveragePSI.png\",bbox_inches=\"tight\")"
   ]
  },
  {
   "cell_type": "markdown",
   "metadata": {},
   "source": [
    "### Do the Total BBLs Injected Have More Earthquakes Around Them?"
   ]
  },
  {
   "cell_type": "code",
   "execution_count": 47,
   "metadata": {},
   "outputs": [
    {
     "data": {
      "image/png": "[encoded data removed]",
      "text/plain": [
       "<Figure size 432x288 with 2 Axes>"
      ]
     },
     "metadata": {
      "needs_background": "light"
     },
     "output_type": "display_data"
    }
   ],
   "source": [
    "fig, ax1 = plt.subplots()\n",
    "\n",
    "color = 'tab:red'\n",
    "ax1.set_xlabel('Years')\n",
    "ax1.set_ylabel('# of Earthquakes', color=color)\n",
    "ax1.plot(yearly_quakes[\"time\"], color=color)\n",
    "ax1.tick_params(axis='y', labelcolor=color)\n",
    "\n",
    "ax2 = ax1.twinx()  # instantiate a second axes that shares the same x-axis\n",
    "\n",
    "color = 'tab:blue'\n",
    "ax2.set_ylabel('# of Wells', color=color)  # we already handled the x-label with ax1\n",
    "ax2.plot(WellCounts, color=color)\n",
    "ax2.tick_params(axis='y', labelcolor=color)\n",
    "plt.title(\"Number of Earthquakes vs. Number of Wells per Year\")\n",
    "#save image\n",
    "plt.savefig(\"PlotImages/TotalWellsVsTotalQuakes.png\",bbox_inches=\"tight\")"
   ]
  },
  {
   "cell_type": "code",
   "execution_count": 48,
   "metadata": {},
   "outputs": [
    {
     "data": {
      "image/png": "[encoded data removed]",
      "text/plain": [
       "<Figure size 432x288 with 1 Axes>"
      ]
     },
     "metadata": {
      "needs_background": "light"
     },
     "output_type": "display_data"
    },
    {
     "data": {
      "text/plain": [
       "<Figure size 720x432 with 0 Axes>"
      ]
     },
     "metadata": {},
     "output_type": "display_data"
    }
   ],
   "source": [
    "#get BBLS totals by year\n",
    "YearlyBBLTotal = WellsGroupbyYear[\"BBLS\"].sum()\n",
    "#plot\n",
    "plt.plot(YearlyBBLTotal)\n",
    "plt.title(\"Well BBL Totalsby Year\")\n",
    "plt.xlabel(\"Year\")\n",
    "plt.xticks(xticks, rotation = 45)\n",
    "plt.xlim(xlim)\n",
    "plt.ylabel(\"BBLs\")\n",
    "plt.figure(figsize=(10,6))\n",
    "#save image\n",
    "plt.savefig(\"PlotImages/TotalBBLsperYear.png\",bbox_inches=\"tight\")"
   ]
  },
  {
   "cell_type": "code",
   "execution_count": 49,
   "metadata": {},
   "outputs": [
    {
     "data": {
      "image/png": "[encoded data removed]",
      "text/plain": [
       "<Figure size 432x288 with 1 Axes>"
      ]
     },
     "metadata": {
      "needs_background": "light"
     },
     "output_type": "display_data"
    },
    {
     "data": {
      "text/plain": [
       "<Figure size 720x432 with 0 Axes>"
      ]
     },
     "metadata": {},
     "output_type": "display_data"
    }
   ],
   "source": [
    "YearlyBBLAvg = WellsGroupbyYear[\"BBLS\"].mean()\n",
    "plt.plot(YearlyBBLAvg)\n",
    "plt.title(\"Average Well BBLS in Oklahoma by Year\")\n",
    "plt.xlabel(\"Year\")\n",
    "plt.xticks(xticks, rotation = 45)\n",
    "plt.xlim(xlim)\n",
    "plt.ylabel(\"Barrels\")\n",
    "plt.figure(figsize=(10,6))\n",
    "#save image\n",
    "plt.savefig(\"PlotImages/AverageBBLsbyYear.png\",bbox_inches=\"tight\")"
   ]
  },
  {
   "cell_type": "code",
   "execution_count": 50,
   "metadata": {},
   "outputs": [
    {
     "data": {
      "image/png": "[encoded data removed]",
      "text/plain": [
       "<Figure size 432x288 with 2 Axes>"
      ]
     },
     "metadata": {
      "needs_background": "light"
     },
     "output_type": "display_data"
    }
   ],
   "source": [
    "fig, ax1 = plt.subplots()\n",
    "\n",
    "color = 'tab:red'\n",
    "ax1.set_xlabel('Years')\n",
    "ax1.set_ylabel('# of Earthquakes', color=color)\n",
    "ax1.plot(yearly_quakes[\"time\"], color=color)\n",
    "ax1.tick_params(axis='y', labelcolor=color)\n",
    "\n",
    "ax2 = ax1.twinx()  # instantiate a second axes that shares the same x-axis\n",
    "\n",
    "color = 'tab:blue'\n",
    "ax2.set_ylabel('Barrels', color=color)  # we already handled the x-label with ax1\n",
    "ax2.plot(YearlyBBLTotal, color=color)\n",
    "ax2.tick_params(axis='y', labelcolor=color)\n",
    "plt.title(\"Number of Earthquakes vs. Total Well BBLs per Year\")\n",
    "#save image\n",
    "plt.savefig(\"PlotImages/QuakesVsTotalBBLs.png\",bbox_inches=\"tight\")"
   ]
  },
  {
   "cell_type": "code",
   "execution_count": 51,
   "metadata": {},
   "outputs": [
    {
     "data": {
      "image/png": "[encoded data removed]",
      "text/plain": [
       "<Figure size 432x288 with 2 Axes>"
      ]
     },
     "metadata": {
      "needs_background": "light"
     },
     "output_type": "display_data"
    }
   ],
   "source": [
    "fig, ax1 = plt.subplots()\n",
    "\n",
    "color = 'tab:red'\n",
    "ax1.set_xlabel('Years')\n",
    "ax1.set_ylabel('# of Earthquakes', color=color)\n",
    "ax1.plot(yearly_quakes[\"time\"], color=color)\n",
    "ax1.tick_params(axis='y', labelcolor=color)\n",
    "\n",
    "ax2 = ax1.twinx()  # instantiate a second axes that shares the same x-axis\n",
    "\n",
    "color = 'tab:blue'\n",
    "ax2.set_ylabel('Average BBLs', color=color)  # we already handled the x-label with ax1\n",
    "ax2.plot(YearlyBBLAvg, color=color)\n",
    "ax2.tick_params(axis='y', labelcolor=color)\n",
    "plt.title(\"Number of Earthquakes vs. Average Well BBLs per Year\")\n",
    "#save image\n",
    "plt.savefig(\"PlotImages/QuakesVsAverageBBLs.png\",bbox_inches=\"tight\")"
   ]
  },
  {
   "cell_type": "markdown",
   "metadata": {},
   "source": [
    "### Create a Map of Earthquakes and Well locations"
   ]
  },
  {
   "cell_type": "code",
   "execution_count": 52,
   "metadata": {},
   "outputs": [],
   "source": [
    "# Create bins to put years for earthquakes \n",
    "bins = [1970, 2009, 2010, 2011, 2012, 2013, 2014, 2015, 2016, 2017]\n",
    "group_labels = ['1970 to 2009', '2010', '2011', '2012', '2013', '2014', '2015', '2016', '2017']"
   ]
  },
  {
   "cell_type": "code",
   "execution_count": 53,
   "metadata": {},
   "outputs": [],
   "source": [
    "bin_clean_quakes_df = clean_quakes_df"
   ]
  },
  {
   "cell_type": "code",
   "execution_count": 54,
   "metadata": {},
   "outputs": [
    {
     "data": {
      "text/html": [
       "<div>\n",
       "<style scoped>\n",
       "    .dataframe tbody tr th:only-of-type {\n",
       "        vertical-align: middle;\n",
       "    }\n",
       "\n",
       "    .dataframe tbody tr th {\n",
       "        vertical-align: top;\n",
       "    }\n",
       "\n",
       "    .dataframe thead th {\n",
       "        text-align: right;\n",
       "    }\n",
       "</style>\n",
       "<table border=\"1\" class=\"dataframe\">\n",
       "  <thead>\n",
       "    <tr style=\"text-align: right;\">\n",
       "      <th></th>\n",
       "      <th>time</th>\n",
       "      <th>year</th>\n",
       "      <th>latitude</th>\n",
       "      <th>longitude</th>\n",
       "      <th>depth</th>\n",
       "      <th>mag</th>\n",
       "      <th>magType</th>\n",
       "      <th>net</th>\n",
       "      <th>id</th>\n",
       "      <th>updated</th>\n",
       "      <th>place</th>\n",
       "      <th>type</th>\n",
       "      <th>status</th>\n",
       "      <th>locationSource</th>\n",
       "      <th>magSource</th>\n",
       "    </tr>\n",
       "  </thead>\n",
       "  <tbody>\n",
       "    <tr>\n",
       "      <th>4</th>\n",
       "      <td>1974-02-15 13:33:49.200000+00:00</td>\n",
       "      <td>1974</td>\n",
       "      <td>36.5000</td>\n",
       "      <td>-100.6930</td>\n",
       "      <td>24.00</td>\n",
       "      <td>4.5</td>\n",
       "      <td>mb</td>\n",
       "      <td>us</td>\n",
       "      <td>usp00005ac</td>\n",
       "      <td>2014-11-06T23:21:22.859Z</td>\n",
       "      <td>Oklahoma</td>\n",
       "      <td>earthquake</td>\n",
       "      <td>reviewed</td>\n",
       "      <td>us</td>\n",
       "      <td>us</td>\n",
       "    </tr>\n",
       "    <tr>\n",
       "      <th>21</th>\n",
       "      <td>1974-12-16 02:30:21.400000+00:00</td>\n",
       "      <td>1974</td>\n",
       "      <td>35.3300</td>\n",
       "      <td>-97.4800</td>\n",
       "      <td>10.00</td>\n",
       "      <td>2.6</td>\n",
       "      <td>ml</td>\n",
       "      <td>us</td>\n",
       "      <td>usp000094v</td>\n",
       "      <td>2014-11-06T23:21:27.851Z</td>\n",
       "      <td>Oklahoma</td>\n",
       "      <td>earthquake</td>\n",
       "      <td>reviewed</td>\n",
       "      <td>m</td>\n",
       "      <td>tul</td>\n",
       "    </tr>\n",
       "    <tr>\n",
       "      <th>33</th>\n",
       "      <td>1975-09-13 01:25:02.800000+00:00</td>\n",
       "      <td>1975</td>\n",
       "      <td>34.1390</td>\n",
       "      <td>-97.3690</td>\n",
       "      <td>5.00</td>\n",
       "      <td>3.4</td>\n",
       "      <td>lg</td>\n",
       "      <td>us</td>\n",
       "      <td>usp0000csk</td>\n",
       "      <td>2014-11-06T23:21:31.918Z</td>\n",
       "      <td>Oklahoma</td>\n",
       "      <td>earthquake</td>\n",
       "      <td>reviewed</td>\n",
       "      <td>us</td>\n",
       "      <td>tul</td>\n",
       "    </tr>\n",
       "    <tr>\n",
       "      <th>35</th>\n",
       "      <td>1975-10-12 02:58:11.200000+00:00</td>\n",
       "      <td>1975</td>\n",
       "      <td>34.8160</td>\n",
       "      <td>-97.4060</td>\n",
       "      <td>20.00</td>\n",
       "      <td>3.2</td>\n",
       "      <td>lg</td>\n",
       "      <td>us</td>\n",
       "      <td>usp0000d4a</td>\n",
       "      <td>2014-11-06T23:21:32.248Z</td>\n",
       "      <td>Oklahoma</td>\n",
       "      <td>earthquake</td>\n",
       "      <td>reviewed</td>\n",
       "      <td>us</td>\n",
       "      <td>tul</td>\n",
       "    </tr>\n",
       "    <tr>\n",
       "      <th>36</th>\n",
       "      <td>1975-11-29 14:29:40.900000+00:00</td>\n",
       "      <td>1975</td>\n",
       "      <td>34.5210</td>\n",
       "      <td>-97.3470</td>\n",
       "      <td>5.00</td>\n",
       "      <td>3.5</td>\n",
       "      <td>lg</td>\n",
       "      <td>us</td>\n",
       "      <td>usp0000dsb</td>\n",
       "      <td>2014-11-06T23:21:32.839Z</td>\n",
       "      <td>Oklahoma</td>\n",
       "      <td>earthquake</td>\n",
       "      <td>reviewed</td>\n",
       "      <td>us</td>\n",
       "      <td>slm</td>\n",
       "    </tr>\n",
       "    <tr>\n",
       "      <th>...</th>\n",
       "      <td>...</td>\n",
       "      <td>...</td>\n",
       "      <td>...</td>\n",
       "      <td>...</td>\n",
       "      <td>...</td>\n",
       "      <td>...</td>\n",
       "      <td>...</td>\n",
       "      <td>...</td>\n",
       "      <td>...</td>\n",
       "      <td>...</td>\n",
       "      <td>...</td>\n",
       "      <td>...</td>\n",
       "      <td>...</td>\n",
       "      <td>...</td>\n",
       "      <td>...</td>\n",
       "    </tr>\n",
       "    <tr>\n",
       "      <th>13940</th>\n",
       "      <td>2016-09-20 04:59:11.140000+00:00</td>\n",
       "      <td>2016</td>\n",
       "      <td>36.9246</td>\n",
       "      <td>-97.8946</td>\n",
       "      <td>2.62</td>\n",
       "      <td>3.9</td>\n",
       "      <td>mwr</td>\n",
       "      <td>us</td>\n",
       "      <td>us10006qzl</td>\n",
       "      <td>2016-09-20T19:15:48.944Z</td>\n",
       "      <td>Oklahoma</td>\n",
       "      <td>earthquake</td>\n",
       "      <td>reviewed</td>\n",
       "      <td>us</td>\n",
       "      <td>us</td>\n",
       "    </tr>\n",
       "    <tr>\n",
       "      <th>13941</th>\n",
       "      <td>2016-09-20 05:38:38.350000+00:00</td>\n",
       "      <td>2016</td>\n",
       "      <td>36.3735</td>\n",
       "      <td>-96.8187</td>\n",
       "      <td>4.69</td>\n",
       "      <td>2.3</td>\n",
       "      <td>ml</td>\n",
       "      <td>us</td>\n",
       "      <td>us10006qzw</td>\n",
       "      <td>2016-09-20T16:13:04.040Z</td>\n",
       "      <td>Oklahoma</td>\n",
       "      <td>earthquake</td>\n",
       "      <td>reviewed</td>\n",
       "      <td>us</td>\n",
       "      <td>us</td>\n",
       "    </tr>\n",
       "    <tr>\n",
       "      <th>13942</th>\n",
       "      <td>2016-09-20 06:36:35.520000+00:00</td>\n",
       "      <td>2016</td>\n",
       "      <td>36.4122</td>\n",
       "      <td>-96.8824</td>\n",
       "      <td>4.41</td>\n",
       "      <td>1.4</td>\n",
       "      <td>ml</td>\n",
       "      <td>us</td>\n",
       "      <td>us10006r04</td>\n",
       "      <td>2016-09-20T16:21:03.040Z</td>\n",
       "      <td>Oklahoma</td>\n",
       "      <td>earthquake</td>\n",
       "      <td>reviewed</td>\n",
       "      <td>us</td>\n",
       "      <td>us</td>\n",
       "    </tr>\n",
       "    <tr>\n",
       "      <th>13944</th>\n",
       "      <td>2016-09-20 17:31:48.380000+00:00</td>\n",
       "      <td>2016</td>\n",
       "      <td>36.9393</td>\n",
       "      <td>-97.8960</td>\n",
       "      <td>2.32</td>\n",
       "      <td>3.0</td>\n",
       "      <td>mb_lg</td>\n",
       "      <td>us</td>\n",
       "      <td>us10006r59</td>\n",
       "      <td>2016-09-20T17:43:43.040Z</td>\n",
       "      <td>Oklahoma</td>\n",
       "      <td>earthquake</td>\n",
       "      <td>reviewed</td>\n",
       "      <td>us</td>\n",
       "      <td>us</td>\n",
       "    </tr>\n",
       "    <tr>\n",
       "      <th>13945</th>\n",
       "      <td>2016-09-20 17:45:59.920000+00:00</td>\n",
       "      <td>2016</td>\n",
       "      <td>36.9405</td>\n",
       "      <td>-97.9063</td>\n",
       "      <td>7.20</td>\n",
       "      <td>2.5</td>\n",
       "      <td>mb_lg</td>\n",
       "      <td>us</td>\n",
       "      <td>us10006r5b</td>\n",
       "      <td>2016-09-20T19:48:57.396Z</td>\n",
       "      <td>Oklahoma</td>\n",
       "      <td>earthquake</td>\n",
       "      <td>reviewed</td>\n",
       "      <td>us</td>\n",
       "      <td>us</td>\n",
       "    </tr>\n",
       "  </tbody>\n",
       "</table>\n",
       "<p>7854 rows × 15 columns</p>\n",
       "</div>"
      ],
      "text/plain": [
       "                                  time  year  latitude  longitude  depth  mag  \\\n",
       "4     1974-02-15 13:33:49.200000+00:00  1974   36.5000  -100.6930  24.00  4.5   \n",
       "21    1974-12-16 02:30:21.400000+00:00  1974   35.3300   -97.4800  10.00  2.6   \n",
       "33    1975-09-13 01:25:02.800000+00:00  1975   34.1390   -97.3690   5.00  3.4   \n",
       "35    1975-10-12 02:58:11.200000+00:00  1975   34.8160   -97.4060  20.00  3.2   \n",
       "36    1975-11-29 14:29:40.900000+00:00  1975   34.5210   -97.3470   5.00  3.5   \n",
       "...                                ...   ...       ...        ...    ...  ...   \n",
       "13940 2016-09-20 04:59:11.140000+00:00  2016   36.9246   -97.8946   2.62  3.9   \n",
       "13941 2016-09-20 05:38:38.350000+00:00  2016   36.3735   -96.8187   4.69  2.3   \n",
       "13942 2016-09-20 06:36:35.520000+00:00  2016   36.4122   -96.8824   4.41  1.4   \n",
       "13944 2016-09-20 17:31:48.380000+00:00  2016   36.9393   -97.8960   2.32  3.0   \n",
       "13945 2016-09-20 17:45:59.920000+00:00  2016   36.9405   -97.9063   7.20  2.5   \n",
       "\n",
       "      magType net          id                   updated     place        type  \\\n",
       "4          mb  us  usp00005ac  2014-11-06T23:21:22.859Z  Oklahoma  earthquake   \n",
       "21         ml  us  usp000094v  2014-11-06T23:21:27.851Z  Oklahoma  earthquake   \n",
       "33         lg  us  usp0000csk  2014-11-06T23:21:31.918Z  Oklahoma  earthquake   \n",
       "35         lg  us  usp0000d4a  2014-11-06T23:21:32.248Z  Oklahoma  earthquake   \n",
       "36         lg  us  usp0000dsb  2014-11-06T23:21:32.839Z  Oklahoma  earthquake   \n",
       "...       ...  ..         ...                       ...       ...         ...   \n",
       "13940     mwr  us  us10006qzl  2016-09-20T19:15:48.944Z  Oklahoma  earthquake   \n",
       "13941      ml  us  us10006qzw  2016-09-20T16:13:04.040Z  Oklahoma  earthquake   \n",
       "13942      ml  us  us10006r04  2016-09-20T16:21:03.040Z  Oklahoma  earthquake   \n",
       "13944   mb_lg  us  us10006r59  2016-09-20T17:43:43.040Z  Oklahoma  earthquake   \n",
       "13945   mb_lg  us  us10006r5b  2016-09-20T19:48:57.396Z  Oklahoma  earthquake   \n",
       "\n",
       "         status locationSource magSource  \n",
       "4      reviewed             us        us  \n",
       "21     reviewed              m       tul  \n",
       "33     reviewed             us       tul  \n",
       "35     reviewed             us       tul  \n",
       "36     reviewed             us       slm  \n",
       "...         ...            ...       ...  \n",
       "13940  reviewed             us        us  \n",
       "13941  reviewed             us        us  \n",
       "13942  reviewed             us        us  \n",
       "13944  reviewed             us        us  \n",
       "13945  reviewed             us        us  \n",
       "\n",
       "[7854 rows x 15 columns]"
      ]
     },
     "execution_count": 54,
     "metadata": {},
     "output_type": "execute_result"
    }
   ],
   "source": [
    "bin_clean_quakes_df"
   ]
  },
  {
   "cell_type": "code",
   "execution_count": 55,
   "metadata": {},
   "outputs": [
    {
     "data": {
      "text/html": [
       "<div>\n",
       "<style scoped>\n",
       "    .dataframe tbody tr th:only-of-type {\n",
       "        vertical-align: middle;\n",
       "    }\n",
       "\n",
       "    .dataframe tbody tr th {\n",
       "        vertical-align: top;\n",
       "    }\n",
       "\n",
       "    .dataframe thead th {\n",
       "        text-align: right;\n",
       "    }\n",
       "</style>\n",
       "<table border=\"1\" class=\"dataframe\">\n",
       "  <thead>\n",
       "    <tr style=\"text-align: right;\">\n",
       "      <th></th>\n",
       "      <th>time</th>\n",
       "      <th>year</th>\n",
       "      <th>latitude</th>\n",
       "      <th>longitude</th>\n",
       "      <th>depth</th>\n",
       "      <th>mag</th>\n",
       "      <th>magType</th>\n",
       "      <th>net</th>\n",
       "      <th>id</th>\n",
       "      <th>updated</th>\n",
       "      <th>place</th>\n",
       "      <th>type</th>\n",
       "      <th>status</th>\n",
       "      <th>locationSource</th>\n",
       "      <th>magSource</th>\n",
       "    </tr>\n",
       "  </thead>\n",
       "  <tbody>\n",
       "    <tr>\n",
       "      <th>4</th>\n",
       "      <td>1974-02-15 13:33:49.200000+00:00</td>\n",
       "      <td>1970 to 2009</td>\n",
       "      <td>36.500</td>\n",
       "      <td>-100.693</td>\n",
       "      <td>24.0</td>\n",
       "      <td>4.5</td>\n",
       "      <td>mb</td>\n",
       "      <td>us</td>\n",
       "      <td>usp00005ac</td>\n",
       "      <td>2014-11-06T23:21:22.859Z</td>\n",
       "      <td>Oklahoma</td>\n",
       "      <td>earthquake</td>\n",
       "      <td>reviewed</td>\n",
       "      <td>us</td>\n",
       "      <td>us</td>\n",
       "    </tr>\n",
       "    <tr>\n",
       "      <th>21</th>\n",
       "      <td>1974-12-16 02:30:21.400000+00:00</td>\n",
       "      <td>1970 to 2009</td>\n",
       "      <td>35.330</td>\n",
       "      <td>-97.480</td>\n",
       "      <td>10.0</td>\n",
       "      <td>2.6</td>\n",
       "      <td>ml</td>\n",
       "      <td>us</td>\n",
       "      <td>usp000094v</td>\n",
       "      <td>2014-11-06T23:21:27.851Z</td>\n",
       "      <td>Oklahoma</td>\n",
       "      <td>earthquake</td>\n",
       "      <td>reviewed</td>\n",
       "      <td>m</td>\n",
       "      <td>tul</td>\n",
       "    </tr>\n",
       "    <tr>\n",
       "      <th>33</th>\n",
       "      <td>1975-09-13 01:25:02.800000+00:00</td>\n",
       "      <td>1970 to 2009</td>\n",
       "      <td>34.139</td>\n",
       "      <td>-97.369</td>\n",
       "      <td>5.0</td>\n",
       "      <td>3.4</td>\n",
       "      <td>lg</td>\n",
       "      <td>us</td>\n",
       "      <td>usp0000csk</td>\n",
       "      <td>2014-11-06T23:21:31.918Z</td>\n",
       "      <td>Oklahoma</td>\n",
       "      <td>earthquake</td>\n",
       "      <td>reviewed</td>\n",
       "      <td>us</td>\n",
       "      <td>tul</td>\n",
       "    </tr>\n",
       "    <tr>\n",
       "      <th>35</th>\n",
       "      <td>1975-10-12 02:58:11.200000+00:00</td>\n",
       "      <td>1970 to 2009</td>\n",
       "      <td>34.816</td>\n",
       "      <td>-97.406</td>\n",
       "      <td>20.0</td>\n",
       "      <td>3.2</td>\n",
       "      <td>lg</td>\n",
       "      <td>us</td>\n",
       "      <td>usp0000d4a</td>\n",
       "      <td>2014-11-06T23:21:32.248Z</td>\n",
       "      <td>Oklahoma</td>\n",
       "      <td>earthquake</td>\n",
       "      <td>reviewed</td>\n",
       "      <td>us</td>\n",
       "      <td>tul</td>\n",
       "    </tr>\n",
       "    <tr>\n",
       "      <th>36</th>\n",
       "      <td>1975-11-29 14:29:40.900000+00:00</td>\n",
       "      <td>1970 to 2009</td>\n",
       "      <td>34.521</td>\n",
       "      <td>-97.347</td>\n",
       "      <td>5.0</td>\n",
       "      <td>3.5</td>\n",
       "      <td>lg</td>\n",
       "      <td>us</td>\n",
       "      <td>usp0000dsb</td>\n",
       "      <td>2014-11-06T23:21:32.839Z</td>\n",
       "      <td>Oklahoma</td>\n",
       "      <td>earthquake</td>\n",
       "      <td>reviewed</td>\n",
       "      <td>us</td>\n",
       "      <td>slm</td>\n",
       "    </tr>\n",
       "  </tbody>\n",
       "</table>\n",
       "</div>"
      ],
      "text/plain": [
       "                               time          year  latitude  longitude  depth  \\\n",
       "4  1974-02-15 13:33:49.200000+00:00  1970 to 2009    36.500   -100.693   24.0   \n",
       "21 1974-12-16 02:30:21.400000+00:00  1970 to 2009    35.330    -97.480   10.0   \n",
       "33 1975-09-13 01:25:02.800000+00:00  1970 to 2009    34.139    -97.369    5.0   \n",
       "35 1975-10-12 02:58:11.200000+00:00  1970 to 2009    34.816    -97.406   20.0   \n",
       "36 1975-11-29 14:29:40.900000+00:00  1970 to 2009    34.521    -97.347    5.0   \n",
       "\n",
       "    mag magType net          id                   updated     place  \\\n",
       "4   4.5      mb  us  usp00005ac  2014-11-06T23:21:22.859Z  Oklahoma   \n",
       "21  2.6      ml  us  usp000094v  2014-11-06T23:21:27.851Z  Oklahoma   \n",
       "33  3.4      lg  us  usp0000csk  2014-11-06T23:21:31.918Z  Oklahoma   \n",
       "35  3.2      lg  us  usp0000d4a  2014-11-06T23:21:32.248Z  Oklahoma   \n",
       "36  3.5      lg  us  usp0000dsb  2014-11-06T23:21:32.839Z  Oklahoma   \n",
       "\n",
       "          type    status locationSource magSource  \n",
       "4   earthquake  reviewed             us        us  \n",
       "21  earthquake  reviewed              m       tul  \n",
       "33  earthquake  reviewed             us       tul  \n",
       "35  earthquake  reviewed             us       tul  \n",
       "36  earthquake  reviewed             us       slm  "
      ]
     },
     "execution_count": 55,
     "metadata": {},
     "output_type": "execute_result"
    }
   ],
   "source": [
    "# place data series into new column inside dataframe\n",
    "bin_clean_quakes_df['year'] = pd.cut(bin_clean_quakes_df['year'], bins, labels=group_labels)\n",
    "bin_clean_quakes_df.head()"
   ]
  },
  {
   "cell_type": "code",
   "execution_count": 56,
   "metadata": {},
   "outputs": [
    {
     "data": {
      "text/html": [
       "<div>\n",
       "<style scoped>\n",
       "    .dataframe tbody tr th:only-of-type {\n",
       "        vertical-align: middle;\n",
       "    }\n",
       "\n",
       "    .dataframe tbody tr th {\n",
       "        vertical-align: top;\n",
       "    }\n",
       "\n",
       "    .dataframe thead th {\n",
       "        text-align: right;\n",
       "    }\n",
       "</style>\n",
       "<table border=\"1\" class=\"dataframe\">\n",
       "  <thead>\n",
       "    <tr style=\"text-align: right;\">\n",
       "      <th></th>\n",
       "      <th>time</th>\n",
       "      <th>latitude</th>\n",
       "      <th>longitude</th>\n",
       "      <th>depth</th>\n",
       "      <th>mag</th>\n",
       "      <th>magType</th>\n",
       "      <th>net</th>\n",
       "      <th>id</th>\n",
       "      <th>updated</th>\n",
       "      <th>place</th>\n",
       "      <th>type</th>\n",
       "      <th>status</th>\n",
       "      <th>locationSource</th>\n",
       "      <th>magSource</th>\n",
       "    </tr>\n",
       "    <tr>\n",
       "      <th>year</th>\n",
       "      <th></th>\n",
       "      <th></th>\n",
       "      <th></th>\n",
       "      <th></th>\n",
       "      <th></th>\n",
       "      <th></th>\n",
       "      <th></th>\n",
       "      <th></th>\n",
       "      <th></th>\n",
       "      <th></th>\n",
       "      <th></th>\n",
       "      <th></th>\n",
       "      <th></th>\n",
       "      <th></th>\n",
       "    </tr>\n",
       "  </thead>\n",
       "  <tbody>\n",
       "    <tr>\n",
       "      <th>1970 to 2009</th>\n",
       "      <td>216</td>\n",
       "      <td>216</td>\n",
       "      <td>216</td>\n",
       "      <td>216</td>\n",
       "      <td>216</td>\n",
       "      <td>211</td>\n",
       "      <td>216</td>\n",
       "      <td>216</td>\n",
       "      <td>216</td>\n",
       "      <td>216</td>\n",
       "      <td>216</td>\n",
       "      <td>216</td>\n",
       "      <td>216</td>\n",
       "      <td>216</td>\n",
       "    </tr>\n",
       "    <tr>\n",
       "      <th>2010</th>\n",
       "      <td>184</td>\n",
       "      <td>184</td>\n",
       "      <td>184</td>\n",
       "      <td>184</td>\n",
       "      <td>184</td>\n",
       "      <td>182</td>\n",
       "      <td>184</td>\n",
       "      <td>184</td>\n",
       "      <td>184</td>\n",
       "      <td>184</td>\n",
       "      <td>184</td>\n",
       "      <td>184</td>\n",
       "      <td>184</td>\n",
       "      <td>184</td>\n",
       "    </tr>\n",
       "    <tr>\n",
       "      <th>2011</th>\n",
       "      <td>165</td>\n",
       "      <td>165</td>\n",
       "      <td>165</td>\n",
       "      <td>165</td>\n",
       "      <td>165</td>\n",
       "      <td>164</td>\n",
       "      <td>165</td>\n",
       "      <td>165</td>\n",
       "      <td>165</td>\n",
       "      <td>165</td>\n",
       "      <td>165</td>\n",
       "      <td>165</td>\n",
       "      <td>165</td>\n",
       "      <td>165</td>\n",
       "    </tr>\n",
       "    <tr>\n",
       "      <th>2012</th>\n",
       "      <td>92</td>\n",
       "      <td>92</td>\n",
       "      <td>92</td>\n",
       "      <td>92</td>\n",
       "      <td>92</td>\n",
       "      <td>92</td>\n",
       "      <td>92</td>\n",
       "      <td>92</td>\n",
       "      <td>92</td>\n",
       "      <td>92</td>\n",
       "      <td>92</td>\n",
       "      <td>92</td>\n",
       "      <td>92</td>\n",
       "      <td>92</td>\n",
       "    </tr>\n",
       "    <tr>\n",
       "      <th>2013</th>\n",
       "      <td>324</td>\n",
       "      <td>324</td>\n",
       "      <td>324</td>\n",
       "      <td>324</td>\n",
       "      <td>324</td>\n",
       "      <td>324</td>\n",
       "      <td>324</td>\n",
       "      <td>324</td>\n",
       "      <td>324</td>\n",
       "      <td>324</td>\n",
       "      <td>324</td>\n",
       "      <td>324</td>\n",
       "      <td>324</td>\n",
       "      <td>324</td>\n",
       "    </tr>\n",
       "    <tr>\n",
       "      <th>2014</th>\n",
       "      <td>2040</td>\n",
       "      <td>2040</td>\n",
       "      <td>2040</td>\n",
       "      <td>2040</td>\n",
       "      <td>2039</td>\n",
       "      <td>2039</td>\n",
       "      <td>2040</td>\n",
       "      <td>2040</td>\n",
       "      <td>2040</td>\n",
       "      <td>2040</td>\n",
       "      <td>2040</td>\n",
       "      <td>2040</td>\n",
       "      <td>2040</td>\n",
       "      <td>2040</td>\n",
       "    </tr>\n",
       "    <tr>\n",
       "      <th>2015</th>\n",
       "      <td>2864</td>\n",
       "      <td>2864</td>\n",
       "      <td>2864</td>\n",
       "      <td>2864</td>\n",
       "      <td>2864</td>\n",
       "      <td>2864</td>\n",
       "      <td>2864</td>\n",
       "      <td>2864</td>\n",
       "      <td>2864</td>\n",
       "      <td>2864</td>\n",
       "      <td>2864</td>\n",
       "      <td>2864</td>\n",
       "      <td>2864</td>\n",
       "      <td>2864</td>\n",
       "    </tr>\n",
       "    <tr>\n",
       "      <th>2016</th>\n",
       "      <td>1969</td>\n",
       "      <td>1969</td>\n",
       "      <td>1969</td>\n",
       "      <td>1969</td>\n",
       "      <td>1969</td>\n",
       "      <td>1969</td>\n",
       "      <td>1969</td>\n",
       "      <td>1969</td>\n",
       "      <td>1969</td>\n",
       "      <td>1969</td>\n",
       "      <td>1969</td>\n",
       "      <td>1969</td>\n",
       "      <td>1969</td>\n",
       "      <td>1969</td>\n",
       "    </tr>\n",
       "    <tr>\n",
       "      <th>2017</th>\n",
       "      <td>0</td>\n",
       "      <td>0</td>\n",
       "      <td>0</td>\n",
       "      <td>0</td>\n",
       "      <td>0</td>\n",
       "      <td>0</td>\n",
       "      <td>0</td>\n",
       "      <td>0</td>\n",
       "      <td>0</td>\n",
       "      <td>0</td>\n",
       "      <td>0</td>\n",
       "      <td>0</td>\n",
       "      <td>0</td>\n",
       "      <td>0</td>\n",
       "    </tr>\n",
       "  </tbody>\n",
       "</table>\n",
       "</div>"
      ],
      "text/plain": [
       "              time  latitude  longitude  depth   mag  magType   net    id  \\\n",
       "year                                                                        \n",
       "1970 to 2009   216       216        216    216   216      211   216   216   \n",
       "2010           184       184        184    184   184      182   184   184   \n",
       "2011           165       165        165    165   165      164   165   165   \n",
       "2012            92        92         92     92    92       92    92    92   \n",
       "2013           324       324        324    324   324      324   324   324   \n",
       "2014          2040      2040       2040   2040  2039     2039  2040  2040   \n",
       "2015          2864      2864       2864   2864  2864     2864  2864  2864   \n",
       "2016          1969      1969       1969   1969  1969     1969  1969  1969   \n",
       "2017             0         0          0      0     0        0     0     0   \n",
       "\n",
       "              updated  place  type  status  locationSource  magSource  \n",
       "year                                                                   \n",
       "1970 to 2009      216    216   216     216             216        216  \n",
       "2010              184    184   184     184             184        184  \n",
       "2011              165    165   165     165             165        165  \n",
       "2012               92     92    92      92              92         92  \n",
       "2013              324    324   324     324             324        324  \n",
       "2014             2040   2040  2040    2040            2040       2040  \n",
       "2015             2864   2864  2864    2864            2864       2864  \n",
       "2016             1969   1969  1969    1969            1969       1969  \n",
       "2017                0      0     0       0               0          0  "
      ]
     },
     "execution_count": 56,
     "metadata": {},
     "output_type": "execute_result"
    }
   ],
   "source": [
    "# groupby year count\n",
    "year_group = bin_clean_quakes_df.groupby('year').count()\n",
    "year_group"
   ]
  },
  {
   "cell_type": "code",
   "execution_count": 57,
   "metadata": {},
   "outputs": [
    {
     "data": {
      "text/plain": [
       "<pandas.core.groupby.generic.SeriesGroupBy object at 0x0000014F6F21FB00>"
      ]
     },
     "execution_count": 57,
     "metadata": {},
     "output_type": "execute_result"
    }
   ],
   "source": [
    "# create groupby for 'year group'\n",
    "year_group = bin_clean_quakes_df.groupby('year')\n",
    "year_group['year']"
   ]
  },
  {
   "cell_type": "code",
   "execution_count": 58,
   "metadata": {},
   "outputs": [
    {
     "data": {
      "text/html": [
       "<div>\n",
       "<style scoped>\n",
       "    .dataframe tbody tr th:only-of-type {\n",
       "        vertical-align: middle;\n",
       "    }\n",
       "\n",
       "    .dataframe tbody tr th {\n",
       "        vertical-align: top;\n",
       "    }\n",
       "\n",
       "    .dataframe thead th {\n",
       "        text-align: right;\n",
       "    }\n",
       "</style>\n",
       "<table border=\"1\" class=\"dataframe\">\n",
       "  <thead>\n",
       "    <tr style=\"text-align: right;\">\n",
       "      <th></th>\n",
       "      <th>latitude</th>\n",
       "      <th>longitude</th>\n",
       "    </tr>\n",
       "  </thead>\n",
       "  <tbody>\n",
       "    <tr>\n",
       "      <th>4</th>\n",
       "      <td>36.500</td>\n",
       "      <td>-100.693</td>\n",
       "    </tr>\n",
       "    <tr>\n",
       "      <th>21</th>\n",
       "      <td>35.330</td>\n",
       "      <td>-97.480</td>\n",
       "    </tr>\n",
       "    <tr>\n",
       "      <th>33</th>\n",
       "      <td>34.139</td>\n",
       "      <td>-97.369</td>\n",
       "    </tr>\n",
       "    <tr>\n",
       "      <th>35</th>\n",
       "      <td>34.816</td>\n",
       "      <td>-97.406</td>\n",
       "    </tr>\n",
       "    <tr>\n",
       "      <th>36</th>\n",
       "      <td>34.521</td>\n",
       "      <td>-97.347</td>\n",
       "    </tr>\n",
       "    <tr>\n",
       "      <th>...</th>\n",
       "      <td>...</td>\n",
       "      <td>...</td>\n",
       "    </tr>\n",
       "    <tr>\n",
       "      <th>1126</th>\n",
       "      <td>35.566</td>\n",
       "      <td>-97.287</td>\n",
       "    </tr>\n",
       "    <tr>\n",
       "      <th>1127</th>\n",
       "      <td>35.555</td>\n",
       "      <td>-97.282</td>\n",
       "    </tr>\n",
       "    <tr>\n",
       "      <th>1128</th>\n",
       "      <td>35.554</td>\n",
       "      <td>-97.267</td>\n",
       "    </tr>\n",
       "    <tr>\n",
       "      <th>1129</th>\n",
       "      <td>35.498</td>\n",
       "      <td>-97.269</td>\n",
       "    </tr>\n",
       "    <tr>\n",
       "      <th>1131</th>\n",
       "      <td>35.513</td>\n",
       "      <td>-97.275</td>\n",
       "    </tr>\n",
       "  </tbody>\n",
       "</table>\n",
       "<p>216 rows × 2 columns</p>\n",
       "</div>"
      ],
      "text/plain": [
       "      latitude  longitude\n",
       "4       36.500   -100.693\n",
       "21      35.330    -97.480\n",
       "33      34.139    -97.369\n",
       "35      34.816    -97.406\n",
       "36      34.521    -97.347\n",
       "...        ...        ...\n",
       "1126    35.566    -97.287\n",
       "1127    35.555    -97.282\n",
       "1128    35.554    -97.267\n",
       "1129    35.498    -97.269\n",
       "1131    35.513    -97.275\n",
       "\n",
       "[216 rows x 2 columns]"
      ]
     },
     "execution_count": 58,
     "metadata": {},
     "output_type": "execute_result"
    }
   ],
   "source": [
    "# 1970 to 2009 Earthquake\n",
    "year_group_df = pd.DataFrame(year_group)\n",
    "year_group_df[1][0][['latitude','longitude']]"
   ]
  },
  {
   "cell_type": "code",
   "execution_count": 59,
   "metadata": {},
   "outputs": [],
   "source": [
    "# Create bins to put years for wells\n",
    "bins = [1970, 2009, 2010, 2011, 2012, 2013, 2014, 2015, 2016, 2017]\n",
    "group_labels_wells = ['1970 to 2009', '2010', '2011', '2012', '2013', '2014', '2015', '2016', '2017']"
   ]
  },
  {
   "cell_type": "code",
   "execution_count": 60,
   "metadata": {},
   "outputs": [
    {
     "data": {
      "text/plain": [
       "0        1970 to 2009\n",
       "1        1970 to 2009\n",
       "2        1970 to 2009\n",
       "3        1970 to 2009\n",
       "4        1970 to 2009\n",
       "             ...     \n",
       "11120            2016\n",
       "11121            2012\n",
       "11122            2016\n",
       "11123            2016\n",
       "11124            2016\n",
       "Name: year, Length: 8501, dtype: category\n",
       "Categories (9, object): [1970 to 2009 < 2010 < 2011 < 2012 ... 2014 < 2015 < 2016 < 2017]"
      ]
     },
     "execution_count": 60,
     "metadata": {},
     "output_type": "execute_result"
    }
   ],
   "source": [
    "# slice data and place into bins\n",
    "pd.cut(clean_wells_df['year'], bins, labels=group_labels_wells)"
   ]
  },
  {
   "cell_type": "code",
   "execution_count": 61,
   "metadata": {},
   "outputs": [],
   "source": [
    "bin_clean_wells_df = clean_wells_df"
   ]
  },
  {
   "cell_type": "code",
   "execution_count": 62,
   "metadata": {},
   "outputs": [
    {
     "data": {
      "text/html": [
       "<div>\n",
       "<style scoped>\n",
       "    .dataframe tbody tr th:only-of-type {\n",
       "        vertical-align: middle;\n",
       "    }\n",
       "\n",
       "    .dataframe tbody tr th {\n",
       "        vertical-align: top;\n",
       "    }\n",
       "\n",
       "    .dataframe thead th {\n",
       "        text-align: right;\n",
       "    }\n",
       "</style>\n",
       "<table border=\"1\" class=\"dataframe\">\n",
       "  <thead>\n",
       "    <tr style=\"text-align: right;\">\n",
       "      <th></th>\n",
       "      <th>API#</th>\n",
       "      <th>Operator</th>\n",
       "      <th>Operator ID</th>\n",
       "      <th>WellType</th>\n",
       "      <th>WellName</th>\n",
       "      <th>WellNumber</th>\n",
       "      <th>OrderNumbers</th>\n",
       "      <th>Approval Date</th>\n",
       "      <th>year</th>\n",
       "      <th>County</th>\n",
       "      <th>Sec</th>\n",
       "      <th>Twp</th>\n",
       "      <th>Rng</th>\n",
       "      <th>LAT</th>\n",
       "      <th>LONG</th>\n",
       "      <th>PSI</th>\n",
       "      <th>BBLS</th>\n",
       "      <th>ZONE</th>\n",
       "    </tr>\n",
       "  </thead>\n",
       "  <tbody>\n",
       "    <tr>\n",
       "      <th>0</th>\n",
       "      <td>3.500300e+09</td>\n",
       "      <td>PHOENIX PETROCORP INC</td>\n",
       "      <td>19499.0</td>\n",
       "      <td>2R</td>\n",
       "      <td>SE EUREKA UNIT-TUCKER #1</td>\n",
       "      <td>21</td>\n",
       "      <td>133856.0</td>\n",
       "      <td>1977-09-06</td>\n",
       "      <td>1970 to 2009</td>\n",
       "      <td>ALFALFA</td>\n",
       "      <td>13</td>\n",
       "      <td>28N</td>\n",
       "      <td>10W</td>\n",
       "      <td>36.900324</td>\n",
       "      <td>-98.21826</td>\n",
       "      <td>2500</td>\n",
       "      <td>300</td>\n",
       "      <td>CHEROKEE</td>\n",
       "    </tr>\n",
       "    <tr>\n",
       "      <th>1</th>\n",
       "      <td>3.500300e+09</td>\n",
       "      <td>CHAMPLIN EXPLORATION INC</td>\n",
       "      <td>4030.0</td>\n",
       "      <td>2R</td>\n",
       "      <td>CHRISTENSEN</td>\n",
       "      <td>1</td>\n",
       "      <td>470258.0</td>\n",
       "      <td>2002-11-27</td>\n",
       "      <td>1970 to 2009</td>\n",
       "      <td>ALFALFA</td>\n",
       "      <td>21</td>\n",
       "      <td>28N</td>\n",
       "      <td>09W</td>\n",
       "      <td>36.896636</td>\n",
       "      <td>-98.17772</td>\n",
       "      <td>2400</td>\n",
       "      <td>1000</td>\n",
       "      <td>RED FORK</td>\n",
       "    </tr>\n",
       "    <tr>\n",
       "      <th>2</th>\n",
       "      <td>3.500321e+09</td>\n",
       "      <td>LINN OPERATING INC</td>\n",
       "      <td>22182.0</td>\n",
       "      <td>2R</td>\n",
       "      <td>NE CHEROKEE UNIT</td>\n",
       "      <td>85</td>\n",
       "      <td>329426.0</td>\n",
       "      <td>1988-08-19</td>\n",
       "      <td>1970 to 2009</td>\n",
       "      <td>ALFALFA</td>\n",
       "      <td>24</td>\n",
       "      <td>27N</td>\n",
       "      <td>11W</td>\n",
       "      <td>36.806113</td>\n",
       "      <td>-98.32584</td>\n",
       "      <td>1050</td>\n",
       "      <td>1000</td>\n",
       "      <td>RED FORK</td>\n",
       "    </tr>\n",
       "    <tr>\n",
       "      <th>3</th>\n",
       "      <td>3.500321e+09</td>\n",
       "      <td>SANDRIDGE EXPLORATION &amp; PRODUCTION LLC</td>\n",
       "      <td>22281.0</td>\n",
       "      <td>2R</td>\n",
       "      <td>VELMA</td>\n",
       "      <td>2-19</td>\n",
       "      <td>281652.0</td>\n",
       "      <td>1985-07-11</td>\n",
       "      <td>1970 to 2009</td>\n",
       "      <td>ALFALFA</td>\n",
       "      <td>19</td>\n",
       "      <td>28N</td>\n",
       "      <td>10W</td>\n",
       "      <td>36.888589</td>\n",
       "      <td>-98.31853</td>\n",
       "      <td>3152</td>\n",
       "      <td>1000</td>\n",
       "      <td>RED FORK</td>\n",
       "    </tr>\n",
       "    <tr>\n",
       "      <th>4</th>\n",
       "      <td>3.500321e+09</td>\n",
       "      <td>CHAMPLIN EXPLORATION INC</td>\n",
       "      <td>4030.0</td>\n",
       "      <td>2R</td>\n",
       "      <td>GRAY</td>\n",
       "      <td>1A</td>\n",
       "      <td>470257.0</td>\n",
       "      <td>2002-11-27</td>\n",
       "      <td>1970 to 2009</td>\n",
       "      <td>ALFALFA</td>\n",
       "      <td>20</td>\n",
       "      <td>28N</td>\n",
       "      <td>09W</td>\n",
       "      <td>36.892128</td>\n",
       "      <td>-98.19462</td>\n",
       "      <td>1000</td>\n",
       "      <td>2400</td>\n",
       "      <td>RED FORK</td>\n",
       "    </tr>\n",
       "  </tbody>\n",
       "</table>\n",
       "</div>"
      ],
      "text/plain": [
       "           API#                                Operator  Operator ID WellType  \\\n",
       "0  3.500300e+09                   PHOENIX PETROCORP INC      19499.0       2R   \n",
       "1  3.500300e+09                CHAMPLIN EXPLORATION INC       4030.0       2R   \n",
       "2  3.500321e+09                      LINN OPERATING INC      22182.0       2R   \n",
       "3  3.500321e+09  SANDRIDGE EXPLORATION & PRODUCTION LLC      22281.0       2R   \n",
       "4  3.500321e+09                CHAMPLIN EXPLORATION INC       4030.0       2R   \n",
       "\n",
       "                   WellName WellNumber  OrderNumbers Approval Date  \\\n",
       "0  SE EUREKA UNIT-TUCKER #1         21      133856.0    1977-09-06   \n",
       "1               CHRISTENSEN          1      470258.0    2002-11-27   \n",
       "2          NE CHEROKEE UNIT         85      329426.0    1988-08-19   \n",
       "3                     VELMA       2-19      281652.0    1985-07-11   \n",
       "4                      GRAY         1A      470257.0    2002-11-27   \n",
       "\n",
       "           year   County Sec  Twp  Rng        LAT      LONG   PSI  BBLS  \\\n",
       "0  1970 to 2009  ALFALFA  13  28N  10W  36.900324 -98.21826  2500   300   \n",
       "1  1970 to 2009  ALFALFA  21  28N  09W  36.896636 -98.17772  2400  1000   \n",
       "2  1970 to 2009  ALFALFA  24  27N  11W  36.806113 -98.32584  1050  1000   \n",
       "3  1970 to 2009  ALFALFA  19  28N  10W  36.888589 -98.31853  3152  1000   \n",
       "4  1970 to 2009  ALFALFA  20  28N  09W  36.892128 -98.19462  1000  2400   \n",
       "\n",
       "       ZONE  \n",
       "0  CHEROKEE  \n",
       "1  RED FORK  \n",
       "2  RED FORK  \n",
       "3  RED FORK  \n",
       "4  RED FORK  "
      ]
     },
     "execution_count": 62,
     "metadata": {},
     "output_type": "execute_result"
    }
   ],
   "source": [
    "# place data series into new column inside dataframe\n",
    "bin_clean_wells_df['year'] = pd.cut(clean_wells_df['year'], bins, labels=group_labels_wells)\n",
    "bin_clean_wells_df.head()"
   ]
  },
  {
   "cell_type": "code",
   "execution_count": 63,
   "metadata": {},
   "outputs": [
    {
     "data": {
      "text/html": [
       "<div>\n",
       "<style scoped>\n",
       "    .dataframe tbody tr th:only-of-type {\n",
       "        vertical-align: middle;\n",
       "    }\n",
       "\n",
       "    .dataframe tbody tr th {\n",
       "        vertical-align: top;\n",
       "    }\n",
       "\n",
       "    .dataframe thead th {\n",
       "        text-align: right;\n",
       "    }\n",
       "</style>\n",
       "<table border=\"1\" class=\"dataframe\">\n",
       "  <thead>\n",
       "    <tr style=\"text-align: right;\">\n",
       "      <th></th>\n",
       "      <th>API#</th>\n",
       "      <th>Operator</th>\n",
       "      <th>Operator ID</th>\n",
       "      <th>WellType</th>\n",
       "      <th>WellName</th>\n",
       "      <th>WellNumber</th>\n",
       "      <th>OrderNumbers</th>\n",
       "      <th>Approval Date</th>\n",
       "      <th>County</th>\n",
       "      <th>Sec</th>\n",
       "      <th>Twp</th>\n",
       "      <th>Rng</th>\n",
       "      <th>LAT</th>\n",
       "      <th>LONG</th>\n",
       "      <th>PSI</th>\n",
       "      <th>BBLS</th>\n",
       "      <th>ZONE</th>\n",
       "    </tr>\n",
       "    <tr>\n",
       "      <th>year</th>\n",
       "      <th></th>\n",
       "      <th></th>\n",
       "      <th></th>\n",
       "      <th></th>\n",
       "      <th></th>\n",
       "      <th></th>\n",
       "      <th></th>\n",
       "      <th></th>\n",
       "      <th></th>\n",
       "      <th></th>\n",
       "      <th></th>\n",
       "      <th></th>\n",
       "      <th></th>\n",
       "      <th></th>\n",
       "      <th></th>\n",
       "      <th></th>\n",
       "      <th></th>\n",
       "    </tr>\n",
       "  </thead>\n",
       "  <tbody>\n",
       "    <tr>\n",
       "      <th>1970 to 2009</th>\n",
       "      <td>6067</td>\n",
       "      <td>6067</td>\n",
       "      <td>6067</td>\n",
       "      <td>6067</td>\n",
       "      <td>6067</td>\n",
       "      <td>6067</td>\n",
       "      <td>6067</td>\n",
       "      <td>6067</td>\n",
       "      <td>6067</td>\n",
       "      <td>6067</td>\n",
       "      <td>6067</td>\n",
       "      <td>6067</td>\n",
       "      <td>6067</td>\n",
       "      <td>6067</td>\n",
       "      <td>6067</td>\n",
       "      <td>6067</td>\n",
       "      <td>6067</td>\n",
       "    </tr>\n",
       "    <tr>\n",
       "      <th>2010</th>\n",
       "      <td>293</td>\n",
       "      <td>293</td>\n",
       "      <td>293</td>\n",
       "      <td>293</td>\n",
       "      <td>293</td>\n",
       "      <td>293</td>\n",
       "      <td>293</td>\n",
       "      <td>293</td>\n",
       "      <td>293</td>\n",
       "      <td>293</td>\n",
       "      <td>293</td>\n",
       "      <td>293</td>\n",
       "      <td>293</td>\n",
       "      <td>293</td>\n",
       "      <td>293</td>\n",
       "      <td>293</td>\n",
       "      <td>293</td>\n",
       "    </tr>\n",
       "    <tr>\n",
       "      <th>2011</th>\n",
       "      <td>436</td>\n",
       "      <td>436</td>\n",
       "      <td>436</td>\n",
       "      <td>436</td>\n",
       "      <td>436</td>\n",
       "      <td>436</td>\n",
       "      <td>436</td>\n",
       "      <td>436</td>\n",
       "      <td>436</td>\n",
       "      <td>436</td>\n",
       "      <td>436</td>\n",
       "      <td>436</td>\n",
       "      <td>436</td>\n",
       "      <td>436</td>\n",
       "      <td>436</td>\n",
       "      <td>436</td>\n",
       "      <td>436</td>\n",
       "    </tr>\n",
       "    <tr>\n",
       "      <th>2012</th>\n",
       "      <td>447</td>\n",
       "      <td>447</td>\n",
       "      <td>447</td>\n",
       "      <td>447</td>\n",
       "      <td>447</td>\n",
       "      <td>447</td>\n",
       "      <td>447</td>\n",
       "      <td>447</td>\n",
       "      <td>447</td>\n",
       "      <td>447</td>\n",
       "      <td>447</td>\n",
       "      <td>447</td>\n",
       "      <td>447</td>\n",
       "      <td>447</td>\n",
       "      <td>447</td>\n",
       "      <td>447</td>\n",
       "      <td>447</td>\n",
       "    </tr>\n",
       "    <tr>\n",
       "      <th>2013</th>\n",
       "      <td>403</td>\n",
       "      <td>403</td>\n",
       "      <td>403</td>\n",
       "      <td>403</td>\n",
       "      <td>403</td>\n",
       "      <td>403</td>\n",
       "      <td>403</td>\n",
       "      <td>403</td>\n",
       "      <td>403</td>\n",
       "      <td>403</td>\n",
       "      <td>403</td>\n",
       "      <td>403</td>\n",
       "      <td>403</td>\n",
       "      <td>403</td>\n",
       "      <td>403</td>\n",
       "      <td>403</td>\n",
       "      <td>403</td>\n",
       "    </tr>\n",
       "    <tr>\n",
       "      <th>2014</th>\n",
       "      <td>392</td>\n",
       "      <td>392</td>\n",
       "      <td>392</td>\n",
       "      <td>392</td>\n",
       "      <td>392</td>\n",
       "      <td>392</td>\n",
       "      <td>392</td>\n",
       "      <td>392</td>\n",
       "      <td>392</td>\n",
       "      <td>392</td>\n",
       "      <td>392</td>\n",
       "      <td>392</td>\n",
       "      <td>392</td>\n",
       "      <td>392</td>\n",
       "      <td>392</td>\n",
       "      <td>392</td>\n",
       "      <td>392</td>\n",
       "    </tr>\n",
       "    <tr>\n",
       "      <th>2015</th>\n",
       "      <td>246</td>\n",
       "      <td>246</td>\n",
       "      <td>246</td>\n",
       "      <td>246</td>\n",
       "      <td>246</td>\n",
       "      <td>246</td>\n",
       "      <td>246</td>\n",
       "      <td>246</td>\n",
       "      <td>246</td>\n",
       "      <td>246</td>\n",
       "      <td>246</td>\n",
       "      <td>246</td>\n",
       "      <td>246</td>\n",
       "      <td>246</td>\n",
       "      <td>246</td>\n",
       "      <td>246</td>\n",
       "      <td>246</td>\n",
       "    </tr>\n",
       "    <tr>\n",
       "      <th>2016</th>\n",
       "      <td>217</td>\n",
       "      <td>217</td>\n",
       "      <td>217</td>\n",
       "      <td>217</td>\n",
       "      <td>217</td>\n",
       "      <td>217</td>\n",
       "      <td>217</td>\n",
       "      <td>217</td>\n",
       "      <td>217</td>\n",
       "      <td>217</td>\n",
       "      <td>217</td>\n",
       "      <td>217</td>\n",
       "      <td>217</td>\n",
       "      <td>217</td>\n",
       "      <td>217</td>\n",
       "      <td>217</td>\n",
       "      <td>217</td>\n",
       "    </tr>\n",
       "    <tr>\n",
       "      <th>2017</th>\n",
       "      <td>0</td>\n",
       "      <td>0</td>\n",
       "      <td>0</td>\n",
       "      <td>0</td>\n",
       "      <td>0</td>\n",
       "      <td>0</td>\n",
       "      <td>0</td>\n",
       "      <td>0</td>\n",
       "      <td>0</td>\n",
       "      <td>0</td>\n",
       "      <td>0</td>\n",
       "      <td>0</td>\n",
       "      <td>0</td>\n",
       "      <td>0</td>\n",
       "      <td>0</td>\n",
       "      <td>0</td>\n",
       "      <td>0</td>\n",
       "    </tr>\n",
       "  </tbody>\n",
       "</table>\n",
       "</div>"
      ],
      "text/plain": [
       "              API#  Operator  Operator ID  WellType  WellName  WellNumber  \\\n",
       "year                                                                        \n",
       "1970 to 2009  6067      6067         6067      6067      6067        6067   \n",
       "2010           293       293          293       293       293         293   \n",
       "2011           436       436          436       436       436         436   \n",
       "2012           447       447          447       447       447         447   \n",
       "2013           403       403          403       403       403         403   \n",
       "2014           392       392          392       392       392         392   \n",
       "2015           246       246          246       246       246         246   \n",
       "2016           217       217          217       217       217         217   \n",
       "2017             0         0            0         0         0           0   \n",
       "\n",
       "              OrderNumbers  Approval Date  County   Sec   Twp   Rng   LAT  \\\n",
       "year                                                                        \n",
       "1970 to 2009          6067           6067    6067  6067  6067  6067  6067   \n",
       "2010                   293            293     293   293   293   293   293   \n",
       "2011                   436            436     436   436   436   436   436   \n",
       "2012                   447            447     447   447   447   447   447   \n",
       "2013                   403            403     403   403   403   403   403   \n",
       "2014                   392            392     392   392   392   392   392   \n",
       "2015                   246            246     246   246   246   246   246   \n",
       "2016                   217            217     217   217   217   217   217   \n",
       "2017                     0              0       0     0     0     0     0   \n",
       "\n",
       "              LONG   PSI  BBLS  ZONE  \n",
       "year                                  \n",
       "1970 to 2009  6067  6067  6067  6067  \n",
       "2010           293   293   293   293  \n",
       "2011           436   436   436   436  \n",
       "2012           447   447   447   447  \n",
       "2013           403   403   403   403  \n",
       "2014           392   392   392   392  \n",
       "2015           246   246   246   246  \n",
       "2016           217   217   217   217  \n",
       "2017             0     0     0     0  "
      ]
     },
     "execution_count": 63,
     "metadata": {},
     "output_type": "execute_result"
    }
   ],
   "source": [
    "year_group_wells = bin_clean_wells_df.groupby('year').count()\n",
    "year_group_wells"
   ]
  },
  {
   "cell_type": "code",
   "execution_count": 64,
   "metadata": {},
   "outputs": [
    {
     "data": {
      "text/plain": [
       "<pandas.core.groupby.generic.SeriesGroupBy object at 0x0000014F6F2FCA20>"
      ]
     },
     "execution_count": 64,
     "metadata": {},
     "output_type": "execute_result"
    }
   ],
   "source": [
    "# create groupby for 'year group wells'\n",
    "year_group_wells = bin_clean_wells_df.groupby('year')\n",
    "year_group_wells['year']"
   ]
  },
  {
   "cell_type": "code",
   "execution_count": 65,
   "metadata": {},
   "outputs": [
    {
     "data": {
      "text/html": [
       "<div>\n",
       "<style scoped>\n",
       "    .dataframe tbody tr th:only-of-type {\n",
       "        vertical-align: middle;\n",
       "    }\n",
       "\n",
       "    .dataframe tbody tr th {\n",
       "        vertical-align: top;\n",
       "    }\n",
       "\n",
       "    .dataframe thead th {\n",
       "        text-align: right;\n",
       "    }\n",
       "</style>\n",
       "<table border=\"1\" class=\"dataframe\">\n",
       "  <thead>\n",
       "    <tr style=\"text-align: right;\">\n",
       "      <th></th>\n",
       "      <th>LAT</th>\n",
       "      <th>LONG</th>\n",
       "    </tr>\n",
       "  </thead>\n",
       "  <tbody>\n",
       "    <tr>\n",
       "      <th>6</th>\n",
       "      <td>36.674104</td>\n",
       "      <td>-98.515650</td>\n",
       "    </tr>\n",
       "    <tr>\n",
       "      <th>17</th>\n",
       "      <td>36.802928</td>\n",
       "      <td>-98.284720</td>\n",
       "    </tr>\n",
       "    <tr>\n",
       "      <th>25</th>\n",
       "      <td>36.969509</td>\n",
       "      <td>-98.259103</td>\n",
       "    </tr>\n",
       "    <tr>\n",
       "      <th>28</th>\n",
       "      <td>36.957094</td>\n",
       "      <td>-98.147748</td>\n",
       "    </tr>\n",
       "    <tr>\n",
       "      <th>29</th>\n",
       "      <td>36.956200</td>\n",
       "      <td>-98.200600</td>\n",
       "    </tr>\n",
       "    <tr>\n",
       "      <th>...</th>\n",
       "      <td>...</td>\n",
       "      <td>...</td>\n",
       "    </tr>\n",
       "    <tr>\n",
       "      <th>11001</th>\n",
       "      <td>36.712433</td>\n",
       "      <td>-95.929700</td>\n",
       "    </tr>\n",
       "    <tr>\n",
       "      <th>11039</th>\n",
       "      <td>36.942334</td>\n",
       "      <td>-98.603489</td>\n",
       "    </tr>\n",
       "    <tr>\n",
       "      <th>11040</th>\n",
       "      <td>36.987928</td>\n",
       "      <td>-98.623449</td>\n",
       "    </tr>\n",
       "    <tr>\n",
       "      <th>11042</th>\n",
       "      <td>36.944970</td>\n",
       "      <td>-98.933890</td>\n",
       "    </tr>\n",
       "    <tr>\n",
       "      <th>11104</th>\n",
       "      <td>36.351953</td>\n",
       "      <td>-99.277035</td>\n",
       "    </tr>\n",
       "  </tbody>\n",
       "</table>\n",
       "<p>293 rows × 2 columns</p>\n",
       "</div>"
      ],
      "text/plain": [
       "             LAT       LONG\n",
       "6      36.674104 -98.515650\n",
       "17     36.802928 -98.284720\n",
       "25     36.969509 -98.259103\n",
       "28     36.957094 -98.147748\n",
       "29     36.956200 -98.200600\n",
       "...          ...        ...\n",
       "11001  36.712433 -95.929700\n",
       "11039  36.942334 -98.603489\n",
       "11040  36.987928 -98.623449\n",
       "11042  36.944970 -98.933890\n",
       "11104  36.351953 -99.277035\n",
       "\n",
       "[293 rows x 2 columns]"
      ]
     },
     "execution_count": 65,
     "metadata": {},
     "output_type": "execute_result"
    }
   ],
   "source": [
    "# 1970 to 2009 Wells\n",
    "year_group_wells_df = pd.DataFrame(year_group_wells)\n",
    "year_group_wells_df[1][1][['LAT', 'LONG']]"
   ]
  },
  {
   "cell_type": "code",
   "execution_count": 66,
   "metadata": {},
   "outputs": [
    {
     "data": {
      "application/vnd.jupyter.widget-view+json": {
       "model_id": "e9bd22382fd84e6cb7699ed4286da5d1",
       "version_major": 2,
       "version_minor": 0
      },
      "text/plain": [
       "Figure(layout=FigureLayout(height='420px'))"
      ]
     },
     "metadata": {},
     "output_type": "display_data"
    }
   ],
   "source": [
    "# 1970 to 2009 Earthquake & Well Map\n",
    "gmaps.configure(api_key=g_key)\n",
    "\n",
    "earthquakes_map_year = year_group_df[1][0][['latitude','longitude']]\n",
    "well_map_year = year_group_wells_df[1][0][['LAT', 'LONG']]\n",
    "\n",
    "earthquake_layer = gmaps.symbol_layer(earthquakes_map_year, fill_color='red', scale=2)\n",
    "#wells_layer = gmaps.symbol_layer(well_map_year, fill_color='blue', scale=2)\n",
    "\n",
    "fig = gmaps.figure(map_type='HYBRID')\n",
    "fig.add_layer(earthquake_layer)\n",
    "#fig.add_layer(wells_layer)\n",
    "fig\n"
   ]
  },
  {
   "cell_type": "code",
   "execution_count": 67,
   "metadata": {},
   "outputs": [
    {
     "data": {
      "application/vnd.jupyter.widget-view+json": {
       "model_id": "e77893a789a341ebb61cd8896f290307",
       "version_major": 2,
       "version_minor": 0
      },
      "text/plain": [
       "Figure(layout=FigureLayout(height='420px'))"
      ]
     },
     "metadata": {},
     "output_type": "display_data"
    }
   ],
   "source": [
    "# 2010 Earthquake & Well Map\n",
    "gmaps.configure(api_key=g_key)\n",
    "\n",
    "earthquakes_map_year = year_group_df[1][1][['latitude','longitude']]\n",
    "well_map_year = year_group_wells_df[1][1][['LAT', 'LONG']]\n",
    "\n",
    "earthquake_layer = gmaps.symbol_layer(earthquakes_map_year, fill_color='red', scale=2)\n",
    "wells_layer = gmaps.symbol_layer(well_map_year, fill_color='blue', scale=2)\n",
    "\n",
    "fig = gmaps.figure(map_type='HYBRID')\n",
    "fig.add_layer(earthquake_layer)\n",
    "fig.add_layer(wells_layer)\n",
    "fig\n"
   ]
  },
  {
   "cell_type": "code",
   "execution_count": 68,
   "metadata": {},
   "outputs": [
    {
     "data": {
      "application/vnd.jupyter.widget-view+json": {
       "model_id": "ac98c55bcb2f47bcbe11b5e8bbe8efad",
       "version_major": 2,
       "version_minor": 0
      },
      "text/plain": [
       "Figure(layout=FigureLayout(height='420px'))"
      ]
     },
     "metadata": {},
     "output_type": "display_data"
    }
   ],
   "source": [
    "# 2011 Earthquake & Well Map\n",
    "gmaps.configure(api_key=g_key)\n",
    "\n",
    "earthquakes_map_year = year_group_df[1][2][['latitude','longitude']]\n",
    "well_map_year = year_group_wells_df[1][2][['LAT', 'LONG']]\n",
    "\n",
    "earthquake_layer = gmaps.symbol_layer(earthquakes_map_year, fill_color='red', scale=2)\n",
    "wells_layer = gmaps.symbol_layer(well_map_year, fill_color='blue', scale=2)\n",
    "\n",
    "fig = gmaps.figure(map_type='HYBRID')\n",
    "fig.add_layer(earthquake_layer)\n",
    "fig.add_layer(wells_layer)\n",
    "fig"
   ]
  },
  {
   "cell_type": "code",
   "execution_count": 69,
   "metadata": {},
   "outputs": [
    {
     "data": {
      "application/vnd.jupyter.widget-view+json": {
       "model_id": "9bea4683d29f4f459a3f3146652899cb",
       "version_major": 2,
       "version_minor": 0
      },
      "text/plain": [
       "Figure(layout=FigureLayout(height='420px'))"
      ]
     },
     "metadata": {},
     "output_type": "display_data"
    }
   ],
   "source": [
    "# 2012 Earthquake & Well Map\n",
    "gmaps.configure(api_key=g_key)\n",
    "\n",
    "earthquakes_map_year = year_group_df[1][3][['latitude','longitude']]\n",
    "well_map_year = year_group_wells_df[1][3][['LAT', 'LONG']]\n",
    "\n",
    "earthquake_layer = gmaps.symbol_layer(earthquakes_map_year, fill_color='red', scale=2)\n",
    "wells_layer = gmaps.symbol_layer(well_map_year, fill_color='blue', scale=2)\n",
    "\n",
    "fig = gmaps.figure(map_type='HYBRID')\n",
    "fig.add_layer(earthquake_layer)\n",
    "fig.add_layer(wells_layer)\n",
    "fig"
   ]
  },
  {
   "cell_type": "code",
   "execution_count": 70,
   "metadata": {},
   "outputs": [
    {
     "data": {
      "application/vnd.jupyter.widget-view+json": {
       "model_id": "918dae7287de4fc08001835d2aa3dee4",
       "version_major": 2,
       "version_minor": 0
      },
      "text/plain": [
       "Figure(layout=FigureLayout(height='420px'))"
      ]
     },
     "metadata": {},
     "output_type": "display_data"
    }
   ],
   "source": [
    "# 2013 Earthquake & Well Map\n",
    "gmaps.configure(api_key=g_key)\n",
    "\n",
    "earthquakes_map_year = year_group_df[1][4][['latitude','longitude']]\n",
    "well_map_year = year_group_wells_df[1][4][['LAT', 'LONG']]\n",
    "\n",
    "earthquake_layer = gmaps.symbol_layer(earthquakes_map_year, fill_color='red', scale=2)\n",
    "wells_layer = gmaps.symbol_layer(well_map_year, fill_color='blue', scale=2)\n",
    "\n",
    "fig = gmaps.figure(map_type='HYBRID')\n",
    "fig.add_layer(earthquake_layer)\n",
    "fig.add_layer(wells_layer)\n",
    "fig"
   ]
  },
  {
   "cell_type": "code",
   "execution_count": 71,
   "metadata": {},
   "outputs": [
    {
     "data": {
      "application/vnd.jupyter.widget-view+json": {
       "model_id": "1adc4503d5214994b45a14787b1752a2",
       "version_major": 2,
       "version_minor": 0
      },
      "text/plain": [
       "Figure(layout=FigureLayout(height='420px'))"
      ]
     },
     "metadata": {},
     "output_type": "display_data"
    }
   ],
   "source": [
    "# 2014 Earthquake & Well Map\n",
    "gmaps.configure(api_key=g_key)\n",
    "\n",
    "earthquakes_map_year = year_group_df[1][5][['latitude','longitude']]\n",
    "well_map_year = year_group_wells_df[1][5][['LAT', 'LONG']]\n",
    "\n",
    "earthquake_layer = gmaps.symbol_layer(earthquakes_map_year, fill_color='red', scale=2)\n",
    "wells_layer = gmaps.symbol_layer(well_map_year, fill_color='blue', scale=2)\n",
    "\n",
    "fig = gmaps.figure(map_type='HYBRID')\n",
    "fig.add_layer(earthquake_layer)\n",
    "fig.add_layer(wells_layer)\n",
    "fig"
   ]
  },
  {
   "cell_type": "code",
   "execution_count": 72,
   "metadata": {},
   "outputs": [
    {
     "data": {
      "application/vnd.jupyter.widget-view+json": {
       "model_id": "ea7c6681c629473a82595c96d3a7e3a1",
       "version_major": 2,
       "version_minor": 0
      },
      "text/plain": [
       "Figure(layout=FigureLayout(height='420px'))"
      ]
     },
     "metadata": {},
     "output_type": "display_data"
    }
   ],
   "source": [
    "# 2015 Earthquake & Well Map\n",
    "gmaps.configure(api_key=g_key)\n",
    "\n",
    "earthquakes_map_year = year_group_df[1][6][['latitude','longitude']]\n",
    "well_map_year = year_group_wells_df[1][6][['LAT', 'LONG']]\n",
    "\n",
    "earthquake_layer = gmaps.symbol_layer(earthquakes_map_year, fill_color='red', scale=2)\n",
    "wells_layer = gmaps.symbol_layer(well_map_year, fill_color='blue', scale=2)\n",
    "\n",
    "fig = gmaps.figure(map_type='HYBRID')\n",
    "fig.add_layer(earthquake_layer)\n",
    "fig.add_layer(wells_layer)\n",
    "fig"
   ]
  },
  {
   "cell_type": "code",
   "execution_count": 73,
   "metadata": {},
   "outputs": [
    {
     "data": {
      "application/vnd.jupyter.widget-view+json": {
       "model_id": "8712531fff894de999199fedf196c74f",
       "version_major": 2,
       "version_minor": 0
      },
      "text/plain": [
       "Figure(layout=FigureLayout(height='420px'))"
      ]
     },
     "metadata": {},
     "output_type": "display_data"
    }
   ],
   "source": [
    "# 2016 Earthquake & Well Map\n",
    "gmaps.configure(api_key=g_key)\n",
    "\n",
    "earthquakes_map_year = year_group_df[1][7][['latitude','longitude']]\n",
    "well_map_year = year_group_wells_df[1][7][['LAT', 'LONG']]\n",
    "\n",
    "earthquake_layer = gmaps.symbol_layer(earthquakes_map_year, fill_color='red', scale=2)\n",
    "wells_layer = gmaps.symbol_layer(well_map_year, fill_color='blue', scale=2)\n",
    "\n",
    "fig = gmaps.figure(map_type='HYBRID')\n",
    "fig.add_layer(earthquake_layer)\n",
    "fig.add_layer(wells_layer)\n",
    "fig"
   ]
  }
 ],
 "metadata": {
  "kernelspec": {
   "display_name": "Python 3",
   "language": "python",
   "name": "python3"
  },
  "language_info": {
   "codemirror_mode": {
    "name": "ipython",
    "version": 3
   },
   "file_extension": ".py",
   "mimetype": "text/x-python",
   "name": "python",
   "nbconvert_exporter": "python",
   "pygments_lexer": "ipython3",
   "version": "3.6.10"
  }
 },
 "nbformat": 4,
 "nbformat_minor": 4
}
